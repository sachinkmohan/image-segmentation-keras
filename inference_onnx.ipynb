{
 "cells": [
  {
   "cell_type": "code",
   "execution_count": null,
   "id": "f67e45e4",
   "metadata": {},
   "outputs": [],
   "source": []
  },
  {
   "cell_type": "code",
   "execution_count": 18,
   "id": "9117d56c",
   "metadata": {},
   "outputs": [],
   "source": [
    "import onnxruntime as rt"
   ]
  },
  {
   "cell_type": "code",
   "execution_count": 19,
   "id": "6c739e8e",
   "metadata": {},
   "outputs": [],
   "source": [
    "sess = rt.InferenceSession(\"./vgg_unet_im_seg_base_ep20.onnx\", providers=['CUDAExecutionProvider'])"
   ]
  },
  {
   "cell_type": "code",
   "execution_count": 20,
   "id": "bf8f1118",
   "metadata": {},
   "outputs": [],
   "source": [
    "input_name = sess.get_inputs()[0].name"
   ]
  },
  {
   "cell_type": "code",
   "execution_count": 21,
   "id": "55869844",
   "metadata": {},
   "outputs": [
    {
     "name": "stdout",
     "output_type": "stream",
     "text": [
      "input\n"
     ]
    }
   ],
   "source": [
    "print(input_name)"
   ]
  },
  {
   "cell_type": "code",
   "execution_count": 22,
   "id": "9777f631",
   "metadata": {},
   "outputs": [],
   "source": [
    "def get_image_array(image_input,\n",
    "                    width, height,\n",
    "                    imgNorm=\"sub_mean\", ordering='channels_first', read_image_type=1):\n",
    "    \"\"\" Load image array from input \"\"\"\n",
    "\n",
    "    if type(image_input) is np.ndarray:\n",
    "        # It is already an array, use it as it is\n",
    "        img = image_input\n",
    "    elif isinstance(image_input, six.string_types):\n",
    "        if not os.path.isfile(image_input):\n",
    "            raise DataLoaderError(\"get_image_array: path {0} doesn't exist\"\n",
    "                                  .format(image_input))\n",
    "        img = cv2.imread(image_input, read_image_type)\n",
    "    else:\n",
    "        raise DataLoaderError(\"get_image_array: Can't process input type {0}\"\n",
    "                              .format(str(type(image_input))))\n",
    "\n",
    "    if imgNorm == \"sub_and_divide\":\n",
    "        img = np.float32(cv2.resize(img, (width, height))) / 127.5 - 1\n",
    "    elif imgNorm == \"sub_mean\":\n",
    "        img = cv2.resize(img, (width, height))\n",
    "        img = img.astype(np.float32)\n",
    "        img = np.atleast_3d(img)\n",
    "\n",
    "        means = [103.939, 116.779, 123.68]\n",
    "\n",
    "        for i in range(min(img.shape[2], len(means))):\n",
    "            img[:, :, i] -= means[i]\n",
    "\n",
    "        img = img[:, :, ::-1]\n",
    "    elif imgNorm == \"divide\":\n",
    "        img = cv2.resize(img, (width, height))\n",
    "        img = img.astype(np.float32)\n",
    "        img = img/255.0\n",
    "\n",
    "    if ordering == 'channels_first':\n",
    "        img = np.rollaxis(img, 2, 0)\n",
    "    return img"
   ]
  },
  {
   "cell_type": "code",
   "execution_count": 23,
   "id": "13e43dba",
   "metadata": {},
   "outputs": [],
   "source": [
    "n_classes = 50\n",
    "input_height = 320\n",
    "input_width = 640\n",
    "output_height = 160\n",
    "output_width = 320"
   ]
  },
  {
   "cell_type": "code",
   "execution_count": 24,
   "id": "65d0106f",
   "metadata": {},
   "outputs": [],
   "source": [
    "import cv2\n",
    "inp = cv2.imread(\"dataset1/images_prepped_test/0016E5_07965.png\",1)"
   ]
  },
  {
   "cell_type": "code",
   "execution_count": 25,
   "id": "c1cab11b",
   "metadata": {},
   "outputs": [],
   "source": [
    "import numpy as np\n",
    "\n",
    "IMAGE_ORDERING = \"channels_last\"\n",
    "x = get_image_array(inp, input_width, input_height,\n",
    "                    ordering=IMAGE_ORDERING)"
   ]
  },
  {
   "cell_type": "code",
   "execution_count": 26,
   "id": "0287ec3e",
   "metadata": {},
   "outputs": [],
   "source": [
    "#image_data = image_data[np.newaxis, ...].astype(np.float32)"
   ]
  },
  {
   "cell_type": "code",
   "execution_count": 27,
   "id": "5b9b95b7",
   "metadata": {},
   "outputs": [],
   "source": [
    "input_tensor= np.array(np.expand_dims(x,0), dtype=np.float32)"
   ]
  },
  {
   "cell_type": "code",
   "execution_count": 28,
   "id": "f9ea50c8",
   "metadata": {},
   "outputs": [],
   "source": [
    "label_name = sess.get_outputs()[0].name"
   ]
  },
  {
   "cell_type": "code",
   "execution_count": 48,
   "id": "0058e0f6",
   "metadata": {},
   "outputs": [
    {
     "name": "stdout",
     "output_type": "stream",
     "text": [
      "CPU times: user 17 ms, sys: 20.7 ms, total: 37.7 ms\n",
      "Wall time: 36.4 ms\n"
     ]
    }
   ],
   "source": [
    "%%time\n",
    "\n",
    "#detections = sess.run(output_names, {input_name: x})\n",
    "detections = sess.run([label_name], {input_name: input_tensor})\n"
   ]
  },
  {
   "cell_type": "code",
   "execution_count": 31,
   "id": "1808517e",
   "metadata": {},
   "outputs": [],
   "source": [
    "arr = np.asarray(detections)"
   ]
  },
  {
   "cell_type": "code",
   "execution_count": 37,
   "id": "b1bc8bcb",
   "metadata": {},
   "outputs": [
    {
     "ename": "SyntaxError",
     "evalue": "positional argument follows keyword argument (<ipython-input-37-dbf79787d6e6>, line 1)",
     "output_type": "error",
     "traceback": [
      "\u001b[0;36m  File \u001b[0;32m\"<ipython-input-37-dbf79787d6e6>\"\u001b[0;36m, line \u001b[0;32m1\u001b[0m\n\u001b[0;31m    arr1 = np.squeeze(arr, axis=0,1)\u001b[0m\n\u001b[0m                                 ^\u001b[0m\n\u001b[0;31mSyntaxError\u001b[0m\u001b[0;31m:\u001b[0m positional argument follows keyword argument\n"
     ]
    }
   ],
   "source": [
    "arr1 = np.squeeze(arr, axis=0)"
   ]
  },
  {
   "cell_type": "code",
   "execution_count": 38,
   "id": "6af8f22a",
   "metadata": {},
   "outputs": [],
   "source": [
    "arr2 = np.squeeze(arr1, axis=0)"
   ]
  },
  {
   "cell_type": "code",
   "execution_count": 39,
   "id": "a59ae6ca",
   "metadata": {},
   "outputs": [
    {
     "data": {
      "text/plain": [
       "(51200, 50)"
      ]
     },
     "execution_count": 39,
     "metadata": {},
     "output_type": "execute_result"
    }
   ],
   "source": [
    "arr2.shape"
   ]
  },
  {
   "cell_type": "code",
   "execution_count": 44,
   "id": "0a0379e9",
   "metadata": {},
   "outputs": [],
   "source": [
    "pr_p1 = arr2.reshape((output_height,  output_width, n_classes)).argmax(axis=2)"
   ]
  },
  {
   "cell_type": "code",
   "execution_count": 45,
   "id": "b3861bde",
   "metadata": {},
   "outputs": [
    {
     "data": {
      "text/plain": [
       "(160, 320)"
      ]
     },
     "execution_count": 45,
     "metadata": {},
     "output_type": "execute_result"
    }
   ],
   "source": [
    "pr_p1.shape"
   ]
  },
  {
   "cell_type": "code",
   "execution_count": 46,
   "id": "33a65577",
   "metadata": {},
   "outputs": [
    {
     "data": {
      "text/plain": [
       "<matplotlib.image.AxesImage at 0x7f3b25217be0>"
      ]
     },
     "execution_count": 46,
     "metadata": {},
     "output_type": "execute_result"
    },
    {
     "data": {
      "image/png": "[encoded data removed]",
      "text/plain": [
       "<Figure size 432x288 with 1 Axes>"
      ]
     },
     "metadata": {
      "needs_background": "light"
     },
     "output_type": "display_data"
    }
   ],
   "source": [
    "import matplotlib.pyplot as plt\n",
    "plt.imshow(pr_p1)"
   ]
  },
  {
   "cell_type": "code",
   "execution_count": 40,
   "id": "fd0d9e81",
   "metadata": {},
   "outputs": [],
   "source": [
    "arr3 = np.delete(arr, np.s_[1:3], axis=1)"
   ]
  },
  {
   "cell_type": "code",
   "execution_count": 43,
   "id": "fc78a8fa",
   "metadata": {},
   "outputs": [
    {
     "data": {
      "text/plain": [
       "(1, 1, 51200, 50)"
      ]
     },
     "execution_count": 43,
     "metadata": {},
     "output_type": "execute_result"
    }
   ],
   "source": [
    "arr3.shape"
   ]
  }
 ],
 "metadata": {
  "kernelspec": {
   "display_name": "Python 3",
   "language": "python",
   "name": "python3"
  },
  "language_info": {
   "codemirror_mode": {
    "name": "ipython",
    "version": 3
   },
   "file_extension": ".py",
   "mimetype": "text/x-python",
   "name": "python",
   "nbconvert_exporter": "python",
   "pygments_lexer": "ipython3",
   "version": "3.6.9"
  }
 },
 "nbformat": 4,
 "nbformat_minor": 5
}

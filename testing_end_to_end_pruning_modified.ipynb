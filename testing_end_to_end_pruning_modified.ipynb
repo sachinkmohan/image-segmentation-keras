{
 "cells": [
  {
   "cell_type": "code",
   "execution_count": 4,
   "id": "7b578bdf",
   "metadata": {},
   "outputs": [],
   "source": [
    "from keras_segmentation.models.all_models import model_from_name\n",
    "import six\n",
    "from keras_segmentation.data_utils.data_loader import image_segmentation_generator, \\\n",
    "    verify_segmentation_dataset\n",
    "from keras.callbacks import Callback\n",
    "from tensorflow.keras.callbacks import ModelCheckpoint\n",
    "\n",
    "## loading tensorboard\n",
    "\n",
    "%load_ext tensorboard"
   ]
  },
  {
   "cell_type": "markdown",
   "id": "c1d28933",
   "metadata": {},
   "source": [
    "### End to end training of the sample model"
   ]
  },
  {
   "cell_type": "code",
   "execution_count": null,
   "id": "c2bd9a9b",
   "metadata": {},
   "outputs": [],
   "source": [
    "from keras_segmentation.models.unet import vgg_unet\n",
    "\n",
    "model = vgg_unet(n_classes=50 ,  input_height=320, input_width=640  )"
   ]
  },
  {
   "cell_type": "code",
   "execution_count": null,
   "id": "1d9ab10b",
   "metadata": {},
   "outputs": [],
   "source": [
    "model.train(\n",
    "    train_images =  \"dataset1/images_prepped_train/\",\n",
    "    train_annotations = \"dataset1/annotations_prepped_train/\",\n",
    "    checkpoints_path = \"/tmp/vgg_unet_1\" , epochs=1\n",
    ")"
   ]
  },
  {
   "cell_type": "code",
   "execution_count": null,
   "id": "dad4491c",
   "metadata": {},
   "outputs": [],
   "source": [
    "out = model1.predict_segmentation(\n",
    "    inp=\"dataset1/images_prepped_test/0016E5_07965.png\",\n",
    "    out_fname=\"/tmp/out.png\"\n",
    ")"
   ]
  },
  {
   "cell_type": "code",
   "execution_count": null,
   "id": "9753e872",
   "metadata": {},
   "outputs": [],
   "source": [
    "import matplotlib.pyplot as plt\n",
    "plt.imshow(out)"
   ]
  },
  {
   "cell_type": "markdown",
   "id": "abb84f6e",
   "metadata": {},
   "source": [
    "### Loading a simple model with weights"
   ]
  },
  {
   "cell_type": "markdown",
   "id": "c71c288f",
   "metadata": {},
   "source": [
    "#### vgg_unet"
   ]
  },
  {
   "cell_type": "code",
   "execution_count": null,
   "id": "0c1397a5",
   "metadata": {},
   "outputs": [],
   "source": [
    "from keras_segmentation.models.unet import vgg_unet\n",
    "\n",
    "model_base = vgg_unet(n_classes=50 ,  input_height=320, input_width=640  )\n",
    "model_base.load_weights('divam_ss_base_weights_ep20.h5')"
   ]
  },
  {
   "cell_type": "markdown",
   "id": "c5968cd9",
   "metadata": {},
   "source": [
    "#### resnet50_segnet"
   ]
  },
  {
   "cell_type": "code",
   "execution_count": 1,
   "id": "05b867b0",
   "metadata": {},
   "outputs": [],
   "source": [
    "from keras_segmentation.models.segnet import resnet50_segnet\n",
    "\n",
    "model_base = resnet50_segnet(n_classes=50 ,  input_height=320, input_width=640)\n",
    "model_base.load_weights('divam_ss_base_weights_r_segnet.19.h5')"
   ]
  },
  {
   "cell_type": "code",
   "execution_count": null,
   "id": "c992af5e",
   "metadata": {},
   "outputs": [],
   "source": [
    "from keras_segmentation.models.segnet import resnet50_segnet\n",
    "\n",
    "model_pruned = resnet50_segnet(n_classes=50 ,  input_height=320, input_width=640)\n",
    "#model_base.load_weights('divam_ss_base_weights_r_segnet.19.h5')\n",
    "model_pruned.load_weights('divam_ss_pruned_weights_r_segnet19.h5')"
   ]
  },
  {
   "cell_type": "code",
   "execution_count": null,
   "id": "bc5d119e",
   "metadata": {},
   "outputs": [],
   "source": [
    "from tensorflow.keras.models import load_model\n",
    "model_prund = load_model('striped_divam_ss_pruned_ep_model_20_r_segnet.h5')"
   ]
  },
  {
   "cell_type": "code",
   "execution_count": null,
   "id": "45c7e074",
   "metadata": {},
   "outputs": [],
   "source": [
    "model_prund.load_weights('divam_ss_pruned_weights_r_segnet19.h5')"
   ]
  },
  {
   "cell_type": "markdown",
   "id": "6ca0e413",
   "metadata": {},
   "source": [
    "### Loading a pruned model"
   ]
  },
  {
   "cell_type": "code",
   "execution_count": null,
   "id": "9958131a",
   "metadata": {},
   "outputs": [],
   "source": [
    "from tensorflow.keras.models import load_model\n",
    "\n",
    "#model = vgg_unet(n_classes=50 ,  input_height=320, input_width=640  )\n",
    "model_p = load_model('./custom_model_files/striped_divam_ss_pruned_ep_model_20_new.h5')"
   ]
  },
  {
   "cell_type": "code",
   "execution_count": null,
   "id": "9eed7eeb",
   "metadata": {},
   "outputs": [],
   "source": [
    "model1 = vgg_unet(n_classes=50 ,  input_height=320, input_width=640  )"
   ]
  },
  {
   "cell_type": "code",
   "execution_count": null,
   "id": "639d9fa2",
   "metadata": {},
   "outputs": [],
   "source": [
    "model_p.summary()"
   ]
  },
  {
   "cell_type": "code",
   "execution_count": null,
   "id": "80b00353",
   "metadata": {},
   "outputs": [],
   "source": [
    "if isinstance(model, six.string_types):\n",
    "    # create the model from the name\n",
    "    assert (n_classes is not None), \"Please provide the n_classes\"\n",
    "    if (input_height is not None) and (input_width is not None):\n",
    "        model = model_from_name[model](\n",
    "            n_classes, input_height=input_height, input_width=input_width)\n",
    "    else:\n",
    "        model = model_from_name[model](n_classes)"
   ]
  },
  {
   "cell_type": "code",
   "execution_count": null,
   "id": "8d3a7b1d",
   "metadata": {},
   "outputs": [],
   "source": [
    "#model = model.load_weights('divam_ss_base.03.h5')"
   ]
  },
  {
   "cell_type": "code",
   "execution_count": null,
   "id": "7b20bc0f",
   "metadata": {},
   "outputs": [],
   "source": [
    "n_classes = model_base.n_classes\n",
    "input_height = model.input_height\n",
    "input_width = model.input_width\n",
    "output_height = model.output_height\n",
    "output_width = model.output_width"
   ]
  },
  {
   "cell_type": "code",
   "execution_count": 2,
   "id": "46a2cbb6",
   "metadata": {},
   "outputs": [],
   "source": [
    "n_classes = 50\n",
    "input_height = 320\n",
    "input_width = 640\n",
    "output_height = 160\n",
    "output_width = 320"
   ]
  },
  {
   "cell_type": "markdown",
   "id": "0da4a32f",
   "metadata": {},
   "source": [
    "### Execute this if you are planning to predict or train the network"
   ]
  },
  {
   "cell_type": "code",
   "execution_count": 3,
   "id": "f5cd6d11",
   "metadata": {},
   "outputs": [],
   "source": [
    "train_images=\"dataset1/images_prepped_train/\"\n",
    "train_annotations=\"dataset1/annotations_prepped_train/\"\n",
    "#input_height=None\n",
    "#input_width=None\n",
    "#n_classes=None\n",
    "verify_dataset=True\n",
    "checkpoints_path=None\n",
    "epochs=20\n",
    "batch_size=2\n",
    "validate=False\n",
    "val_images=None\n",
    "val_annotations=None\n",
    "val_batch_size=2\n",
    "auto_resume_checkpoint=False\n",
    "load_weights=None\n",
    "steps_per_epoch=512\n",
    "val_steps_per_epoch=512\n",
    "gen_use_multiprocessing=False\n",
    "ignore_zero_class=False\n",
    "optimizer_name='adam'\n",
    "do_augment=False\n",
    "augmentation_name=\"aug_all\",\n",
    "callbacks=None\n",
    "custom_augmentation=None\n",
    "other_inputs_paths=None\n",
    "preprocessing=None\n",
    "read_image_type=1"
   ]
  },
  {
   "cell_type": "code",
   "execution_count": 5,
   "id": "196fca73",
   "metadata": {},
   "outputs": [],
   "source": [
    "train_gen = image_segmentation_generator(\n",
    "        train_images, train_annotations,  batch_size,  n_classes,\n",
    "        input_height, input_width, output_height, output_width,\n",
    "        do_augment=do_augment, augmentation_name=augmentation_name,\n",
    "        custom_augmentation=custom_augmentation, other_inputs_paths=other_inputs_paths,\n",
    "        preprocessing=preprocessing, read_image_type=read_image_type)"
   ]
  },
  {
   "cell_type": "code",
   "execution_count": null,
   "id": "18e45c05",
   "metadata": {},
   "outputs": [],
   "source": [
    "import tensorflow \n",
    "\n",
    "checkpoints_path = 'divam_ss_base_weights'\n",
    "default_callback = ModelCheckpoint(\n",
    "            filepath=checkpoints_path + \".{epoch:02d}.h5\",\n",
    "            save_best_only=True,\n",
    "            save_weights_only=True,\n",
    "            verbose=True,\n",
    "            monitor='val_loss'\n",
    "        )\n",
    "tbCallBack = tensorflow.keras.callbacks.TensorBoard(log_dir='./Graph', histogram_freq=0, write_graph=True, write_images=True)\n"
   ]
  },
  {
   "cell_type": "code",
   "execution_count": null,
   "id": "effe6d60",
   "metadata": {},
   "outputs": [],
   "source": [
    "loss_k = 'categorical_crossentropy'\n",
    "model.compile(loss=loss_k,\n",
    "                      optimizer='adam',\n",
    "                      metrics=['accuracy'])"
   ]
  },
  {
   "cell_type": "code",
   "execution_count": null,
   "id": "b6d4d783",
   "metadata": {},
   "outputs": [],
   "source": [
    "import os\n",
    "\n",
    "logs_base_dir = \"./Graph\"\n",
    "os.makedirs(logs_base_dir, exist_ok=True)\n",
    "#%tensorboard --logdir {logs_base_dir}"
   ]
  },
  {
   "cell_type": "code",
   "execution_count": null,
   "id": "250735f9",
   "metadata": {},
   "outputs": [],
   "source": [
    "initial_epoch=0\n",
    "model.fit(train_gen, steps_per_epoch=steps_per_epoch,\n",
    "                  epochs=epochs, callbacks=[default_callback,tbCallBack], initial_epoch=initial_epoch)"
   ]
  },
  {
   "cell_type": "code",
   "execution_count": null,
   "id": "b2f66232",
   "metadata": {},
   "outputs": [],
   "source": [
    "model.save_weights('divam_ss_base_weights_ep20.h5')"
   ]
  },
  {
   "cell_type": "code",
   "execution_count": null,
   "id": "e2c6f5e9",
   "metadata": {},
   "outputs": [],
   "source": [
    "tensorboard --logdir path_to_c/Graph "
   ]
  },
  {
   "cell_type": "code",
   "execution_count": null,
   "id": "2809d57c",
   "metadata": {},
   "outputs": [],
   "source": [
    "out = model_for_pruning.predict_segmentation(\n",
    "    inp=\"dataset1/images_prepped_test/0016E5_07965.png\",\n",
    "    out_fname=\"/tmp/out.png\"\n",
    ")"
   ]
  },
  {
   "cell_type": "code",
   "execution_count": null,
   "id": "3321ae48",
   "metadata": {},
   "outputs": [],
   "source": [
    "model.save('dg_base_ep20.h5')"
   ]
  },
  {
   "cell_type": "code",
   "execution_count": null,
   "id": "bfef2b9b",
   "metadata": {},
   "outputs": [],
   "source": [
    "import matplotlib.pyplot as plt\n",
    "plt.imshow(out)"
   ]
  },
  {
   "cell_type": "code",
   "execution_count": null,
   "id": "064bab62",
   "metadata": {},
   "outputs": [],
   "source": [
    "model2=model.load_model('dg_base_ep1.h5')"
   ]
  },
  {
   "cell_type": "code",
   "execution_count": null,
   "id": "af352c3c",
   "metadata": {},
   "outputs": [],
   "source": [
    "model2.summary()"
   ]
  },
  {
   "cell_type": "code",
   "execution_count": 6,
   "id": "ec952cd3",
   "metadata": {},
   "outputs": [],
   "source": [
    "def get_image_array(image_input,\n",
    "                    width, height,\n",
    "                    imgNorm=\"sub_mean\", ordering='channels_first', read_image_type=1):\n",
    "    \"\"\" Load image array from input \"\"\"\n",
    "\n",
    "    if type(image_input) is np.ndarray:\n",
    "        # It is already an array, use it as it is\n",
    "        img = image_input\n",
    "    elif isinstance(image_input, six.string_types):\n",
    "        if not os.path.isfile(image_input):\n",
    "            raise DataLoaderError(\"get_image_array: path {0} doesn't exist\"\n",
    "                                  .format(image_input))\n",
    "        img = cv2.imread(image_input, read_image_type)\n",
    "    else:\n",
    "        raise DataLoaderError(\"get_image_array: Can't process input type {0}\"\n",
    "                              .format(str(type(image_input))))\n",
    "\n",
    "    if imgNorm == \"sub_and_divide\":\n",
    "        img = np.float32(cv2.resize(img, (width, height))) / 127.5 - 1\n",
    "    elif imgNorm == \"sub_mean\":\n",
    "        img = cv2.resize(img, (width, height))\n",
    "        img = img.astype(np.float32)\n",
    "        img = np.atleast_3d(img)\n",
    "\n",
    "        means = [103.939, 116.779, 123.68]\n",
    "\n",
    "        for i in range(min(img.shape[2], len(means))):\n",
    "            img[:, :, i] -= means[i]\n",
    "\n",
    "        img = img[:, :, ::-1]\n",
    "    elif imgNorm == \"divide\":\n",
    "        img = cv2.resize(img, (width, height))\n",
    "        img = img.astype(np.float32)\n",
    "        img = img/255.0\n",
    "\n",
    "    if ordering == 'channels_first':\n",
    "        img = np.rollaxis(img, 2, 0)\n",
    "    return img"
   ]
  },
  {
   "cell_type": "code",
   "execution_count": 7,
   "id": "d1ad1aa7",
   "metadata": {},
   "outputs": [],
   "source": [
    "import cv2\n",
    "inp = cv2.imread(\"dataset1/images_prepped_test/0016E5_07965.png\",1)"
   ]
  },
  {
   "cell_type": "code",
   "execution_count": 8,
   "id": "8de160ff",
   "metadata": {},
   "outputs": [],
   "source": [
    "import numpy as np\n",
    "\n",
    "IMAGE_ORDERING = \"channels_last\"\n",
    "x = get_image_array(inp, input_width, input_height,\n",
    "                    ordering=IMAGE_ORDERING)"
   ]
  },
  {
   "cell_type": "code",
   "execution_count": 9,
   "id": "1596b75e",
   "metadata": {},
   "outputs": [],
   "source": [
    "pr = model_base.predict(np.array([x]))[0]\n",
    "pr = pr.reshape((output_height,  output_width, n_classes)).argmax(axis=2)"
   ]
  },
  {
   "cell_type": "code",
   "execution_count": null,
   "id": "6616a597",
   "metadata": {},
   "outputs": [],
   "source": [
    "pr"
   ]
  },
  {
   "cell_type": "code",
   "execution_count": null,
   "id": "c51e8053",
   "metadata": {},
   "outputs": [],
   "source": [
    "import random\n",
    "\n",
    "class_colors = [(random.randint(0, 255), random.randint(\n",
    "    0, 255), random.randint(0, 255)) for _ in range(5000)]\n",
    "\n",
    "def visualize_segmentation(seg_arr, inp_img=None, n_classes=None,\n",
    "                           colors=class_colors, class_names=None,\n",
    "                           overlay_img=False, show_legends=False,\n",
    "                           prediction_width=None, prediction_height=None):\n",
    "\n",
    "    if n_classes is None:\n",
    "        n_classes = np.max(seg_arr)\n",
    "\n",
    "    seg_img = get_colored_segmentation_image(seg_arr, n_classes, colors=colors)\n",
    "\n",
    "    if inp_img is not None:\n",
    "        original_h = inp_img.shape[0]\n",
    "        original_w = inp_img.shape[1]\n",
    "        seg_img = cv2.resize(seg_img, (original_w, original_h), interpolation=cv2.INTER_NEAREST)\n",
    "\n",
    "    if (prediction_height is not None) and (prediction_width is not None):\n",
    "        seg_img = cv2.resize(seg_img, (prediction_width, prediction_height), interpolation=cv2.INTER_NEAREST)\n",
    "        if inp_img is not None:\n",
    "            inp_img = cv2.resize(inp_img,\n",
    "                                 (prediction_width, prediction_height))\n",
    "\n",
    "    if overlay_img:\n",
    "        assert inp_img is not None\n",
    "        seg_img = overlay_seg_image(inp_img, seg_img)\n",
    "\n",
    "    if show_legends:\n",
    "        assert class_names is not None\n",
    "        legend_img = get_legends(class_names, colors=colors)\n",
    "\n",
    "        seg_img = concat_lenends(seg_img, legend_img)\n",
    "\n",
    "    return seg_img\n",
    "\n",
    "def get_colored_segmentation_image(seg_arr, n_classes, colors=class_colors):\n",
    "    output_height = seg_arr.shape[0]\n",
    "    output_width = seg_arr.shape[1]\n",
    "\n",
    "    seg_img = np.zeros((output_height, output_width, 3))\n",
    "\n",
    "    for c in range(n_classes):\n",
    "        seg_arr_c = seg_arr[:, :] == c\n",
    "        seg_img[:, :, 0] += ((seg_arr_c)*(colors[c][0])).astype('uint8')\n",
    "        seg_img[:, :, 1] += ((seg_arr_c)*(colors[c][1])).astype('uint8')\n",
    "        seg_img[:, :, 2] += ((seg_arr_c)*(colors[c][2])).astype('uint8')\n",
    "\n",
    "    return seg_img"
   ]
  },
  {
   "cell_type": "code",
   "execution_count": null,
   "id": "01f30607",
   "metadata": {},
   "outputs": [],
   "source": [
    "overlay_img=False\n",
    "show_legends=False\n",
    "class_names=None\n",
    "prediction_width=None\n",
    "prediction_height=None\n",
    "\n",
    "seg_img = visualize_segmentation(pr, inp, n_classes=n_classes,\n",
    "                                 colors=class_colors, overlay_img=overlay_img,\n",
    "                                 show_legends=show_legends,\n",
    "                                 class_names=class_names,\n",
    "                                 prediction_width=prediction_width,\n",
    "                                 prediction_height=prediction_height)"
   ]
  },
  {
   "cell_type": "code",
   "execution_count": null,
   "id": "7a3a3ee6",
   "metadata": {},
   "outputs": [],
   "source": [
    "while(True):\n",
    "    cv2.imshow('im', seg_img)\n",
    "    if cv2.waitKey(1) & 0xFF == ord('q'):\n",
    "        cv2.destroyAllWindows()\n",
    "        break"
   ]
  },
  {
   "cell_type": "code",
   "execution_count": 10,
   "id": "60084169",
   "metadata": {},
   "outputs": [
    {
     "data": {
      "text/plain": [
       "<matplotlib.image.AxesImage at 0x7f6ac467ef60>"
      ]
     },
     "execution_count": 10,
     "metadata": {},
     "output_type": "execute_result"
    },
    {
     "data": {
      "image/png": "[encoded data removed]",
      "text/plain": [
       "<Figure size 432x288 with 1 Axes>"
      ]
     },
     "metadata": {
      "needs_background": "light"
     },
     "output_type": "display_data"
    }
   ],
   "source": [
    "import matplotlib.pyplot as plt\n",
    "plt.imshow(pr)"
   ]
  },
  {
   "cell_type": "markdown",
   "id": "c7b9c11b",
   "metadata": {},
   "source": [
    "### Use the below if you are loading the model"
   ]
  },
  {
   "cell_type": "code",
   "execution_count": null,
   "id": "2b7a6960",
   "metadata": {},
   "outputs": [],
   "source": [
    "from keras_segmentation.models.unet import vgg_unet\n",
    "from tensorflow.keras.models import load_model\n",
    "\n",
    "#model = vgg_unet(n_classes=50 ,  input_height=320, input_width=640  )\n",
    "model7_p=load_model('./striped_divam_ss_pruned_ep_model_20_r_segnet.h5')\n",
    "#model_base=load_model('./dg_base_ep1.h5')\n",
    "print('done')\n"
   ]
  },
  {
   "cell_type": "code",
   "execution_count": null,
   "id": "997cdd74",
   "metadata": {},
   "outputs": [],
   "source": [
    "model_base.summary()"
   ]
  },
  {
   "cell_type": "code",
   "execution_count": null,
   "id": "e57be9cf",
   "metadata": {},
   "outputs": [],
   "source": [
    "import cv2\n",
    "inp = cv2.imread(\"dataset1/images_prepped_test/0016E5_07965.png\",1)"
   ]
  },
  {
   "cell_type": "markdown",
   "id": "63f6b55d",
   "metadata": {},
   "source": [
    "### Pruning the model"
   ]
  },
  {
   "cell_type": "code",
   "execution_count": 11,
   "id": "73a89b20",
   "metadata": {},
   "outputs": [],
   "source": [
    "import tensorflow_model_optimization as tfmot \n",
    "from tensorflow_model_optimization.python.core.sparsity.keras import pruning_schedule as pruning_sched\n",
    "prune_low_magnitude = tfmot.sparsity.keras.prune_low_magnitude\n",
    "import numpy as np"
   ]
  },
  {
   "cell_type": "code",
   "execution_count": 12,
   "id": "b97ce848",
   "metadata": {},
   "outputs": [
    {
     "name": "stderr",
     "output_type": "stream",
     "text": [
      "/home/mohan/virtualenv/divamgupta_tf2/lib/python3.6/site-packages/keras/engine/base_layer.py:2223: UserWarning: `layer.add_variable` is deprecated and will be removed in a future version. Please use `layer.add_weight` method instead.\n",
      "  warnings.warn('`layer.add_variable` is deprecated and '\n"
     ]
    }
   ],
   "source": [
    "num_images = 367\n",
    "end_step = np.ceil(num_images / batch_size).astype(np.int32) * epochs\n",
    "\n",
    "pruning_params = {\n",
    "      'pruning_schedule': tfmot.sparsity.keras.PolynomialDecay(initial_sparsity=0.50,\n",
    "                                                               final_sparsity=0.80,\n",
    "                                                               begin_step=0,\n",
    "                                                               end_step=end_step)\n",
    "}\n",
    "\n",
    "#'''\n",
    "\n",
    "model_for_pruning = tfmot.sparsity.keras.prune_low_magnitude(model_base, **pruning_params)"
   ]
  },
  {
   "cell_type": "code",
   "execution_count": 13,
   "id": "4f3875d0",
   "metadata": {},
   "outputs": [
    {
     "name": "stdout",
     "output_type": "stream",
     "text": [
      "Model: \"model_3\"\n",
      "__________________________________________________________________________________________________\n",
      "Layer (type)                    Output Shape         Param #     Connected to                     \n",
      "==================================================================================================\n",
      "input_1 (InputLayer)            [(None, 320, 640, 3) 0                                            \n",
      "__________________________________________________________________________________________________\n",
      "prune_low_magnitude_zero_paddin (None, 326, 646, 3)  1           input_1[0][0]                    \n",
      "__________________________________________________________________________________________________\n",
      "prune_low_magnitude_conv1 (Prun (None, 160, 320, 64) 18882       prune_low_magnitude_zero_padding2\n",
      "__________________________________________________________________________________________________\n",
      "prune_low_magnitude_bn_conv1 (P (None, 160, 320, 64) 257         prune_low_magnitude_conv1[0][0]  \n",
      "__________________________________________________________________________________________________\n",
      "prune_low_magnitude_activation  (None, 160, 320, 64) 1           prune_low_magnitude_bn_conv1[0][0\n",
      "__________________________________________________________________________________________________\n",
      "prune_low_magnitude_max_pooling (None, 79, 159, 64)  1           prune_low_magnitude_activation[0]\n",
      "__________________________________________________________________________________________________\n",
      "prune_low_magnitude_res2a_branc (None, 79, 159, 64)  8258        prune_low_magnitude_max_pooling2d\n",
      "__________________________________________________________________________________________________\n",
      "prune_low_magnitude_bn2a_branch (None, 79, 159, 64)  257         prune_low_magnitude_res2a_branch2\n",
      "__________________________________________________________________________________________________\n",
      "prune_low_magnitude_activation_ (None, 79, 159, 64)  1           prune_low_magnitude_bn2a_branch2a\n",
      "__________________________________________________________________________________________________\n",
      "prune_low_magnitude_res2a_branc (None, 79, 159, 64)  73794       prune_low_magnitude_activation_1[\n",
      "__________________________________________________________________________________________________\n",
      "prune_low_magnitude_bn2a_branch (None, 79, 159, 64)  257         prune_low_magnitude_res2a_branch2\n",
      "__________________________________________________________________________________________________\n",
      "prune_low_magnitude_activation_ (None, 79, 159, 64)  1           prune_low_magnitude_bn2a_branch2b\n",
      "__________________________________________________________________________________________________\n",
      "prune_low_magnitude_res2a_branc (None, 79, 159, 256) 33026       prune_low_magnitude_activation_2[\n",
      "__________________________________________________________________________________________________\n",
      "prune_low_magnitude_res2a_branc (None, 79, 159, 256) 33026       prune_low_magnitude_max_pooling2d\n",
      "__________________________________________________________________________________________________\n",
      "prune_low_magnitude_bn2a_branch (None, 79, 159, 256) 1025        prune_low_magnitude_res2a_branch2\n",
      "__________________________________________________________________________________________________\n",
      "prune_low_magnitude_bn2a_branch (None, 79, 159, 256) 1025        prune_low_magnitude_res2a_branch1\n",
      "__________________________________________________________________________________________________\n",
      "prune_low_magnitude_add (PruneL (None, 79, 159, 256) 1           prune_low_magnitude_bn2a_branch2c\n",
      "                                                                 prune_low_magnitude_bn2a_branch1[\n",
      "__________________________________________________________________________________________________\n",
      "prune_low_magnitude_activation_ (None, 79, 159, 256) 1           prune_low_magnitude_add[0][0]    \n",
      "__________________________________________________________________________________________________\n",
      "prune_low_magnitude_res2b_branc (None, 79, 159, 64)  32834       prune_low_magnitude_activation_3[\n",
      "__________________________________________________________________________________________________\n",
      "prune_low_magnitude_bn2b_branch (None, 79, 159, 64)  257         prune_low_magnitude_res2b_branch2\n",
      "__________________________________________________________________________________________________\n",
      "prune_low_magnitude_activation_ (None, 79, 159, 64)  1           prune_low_magnitude_bn2b_branch2a\n",
      "__________________________________________________________________________________________________\n",
      "prune_low_magnitude_res2b_branc (None, 79, 159, 64)  73794       prune_low_magnitude_activation_4[\n",
      "__________________________________________________________________________________________________\n",
      "prune_low_magnitude_bn2b_branch (None, 79, 159, 64)  257         prune_low_magnitude_res2b_branch2\n",
      "__________________________________________________________________________________________________\n",
      "prune_low_magnitude_activation_ (None, 79, 159, 64)  1           prune_low_magnitude_bn2b_branch2b\n",
      "__________________________________________________________________________________________________\n",
      "prune_low_magnitude_res2b_branc (None, 79, 159, 256) 33026       prune_low_magnitude_activation_5[\n",
      "__________________________________________________________________________________________________\n",
      "prune_low_magnitude_bn2b_branch (None, 79, 159, 256) 1025        prune_low_magnitude_res2b_branch2\n",
      "__________________________________________________________________________________________________\n",
      "prune_low_magnitude_add_1 (Prun (None, 79, 159, 256) 1           prune_low_magnitude_bn2b_branch2c\n",
      "                                                                 prune_low_magnitude_activation_3[\n",
      "__________________________________________________________________________________________________\n",
      "prune_low_magnitude_activation_ (None, 79, 159, 256) 1           prune_low_magnitude_add_1[0][0]  \n",
      "__________________________________________________________________________________________________\n",
      "prune_low_magnitude_res2c_branc (None, 79, 159, 64)  32834       prune_low_magnitude_activation_6[\n",
      "__________________________________________________________________________________________________\n",
      "prune_low_magnitude_bn2c_branch (None, 79, 159, 64)  257         prune_low_magnitude_res2c_branch2\n",
      "__________________________________________________________________________________________________\n",
      "prune_low_magnitude_activation_ (None, 79, 159, 64)  1           prune_low_magnitude_bn2c_branch2a\n",
      "__________________________________________________________________________________________________\n",
      "prune_low_magnitude_res2c_branc (None, 79, 159, 64)  73794       prune_low_magnitude_activation_7[\n",
      "__________________________________________________________________________________________________\n",
      "prune_low_magnitude_bn2c_branch (None, 79, 159, 64)  257         prune_low_magnitude_res2c_branch2\n",
      "__________________________________________________________________________________________________\n",
      "prune_low_magnitude_activation_ (None, 79, 159, 64)  1           prune_low_magnitude_bn2c_branch2b\n",
      "__________________________________________________________________________________________________\n",
      "prune_low_magnitude_res2c_branc (None, 79, 159, 256) 33026       prune_low_magnitude_activation_8[\n",
      "__________________________________________________________________________________________________\n",
      "prune_low_magnitude_bn2c_branch (None, 79, 159, 256) 1025        prune_low_magnitude_res2c_branch2\n",
      "__________________________________________________________________________________________________\n",
      "prune_low_magnitude_add_2 (Prun (None, 79, 159, 256) 1           prune_low_magnitude_bn2c_branch2c\n",
      "                                                                 prune_low_magnitude_activation_6[\n",
      "__________________________________________________________________________________________________\n",
      "prune_low_magnitude_activation_ (None, 79, 159, 256) 1           prune_low_magnitude_add_2[0][0]  \n",
      "__________________________________________________________________________________________________\n",
      "prune_low_magnitude_res3a_branc (None, 40, 80, 128)  65666       prune_low_magnitude_activation_9[\n",
      "__________________________________________________________________________________________________\n",
      "prune_low_magnitude_bn3a_branch (None, 40, 80, 128)  513         prune_low_magnitude_res3a_branch2\n",
      "__________________________________________________________________________________________________\n",
      "prune_low_magnitude_activation_ (None, 40, 80, 128)  1           prune_low_magnitude_bn3a_branch2a\n",
      "__________________________________________________________________________________________________\n",
      "prune_low_magnitude_res3a_branc (None, 40, 80, 128)  295042      prune_low_magnitude_activation_10\n",
      "__________________________________________________________________________________________________\n",
      "prune_low_magnitude_bn3a_branch (None, 40, 80, 128)  513         prune_low_magnitude_res3a_branch2\n",
      "__________________________________________________________________________________________________\n",
      "prune_low_magnitude_activation_ (None, 40, 80, 128)  1           prune_low_magnitude_bn3a_branch2b\n",
      "__________________________________________________________________________________________________\n",
      "prune_low_magnitude_res3a_branc (None, 40, 80, 512)  131586      prune_low_magnitude_activation_11\n",
      "__________________________________________________________________________________________________\n",
      "prune_low_magnitude_res3a_branc (None, 40, 80, 512)  262658      prune_low_magnitude_activation_9[\n",
      "__________________________________________________________________________________________________\n",
      "prune_low_magnitude_bn3a_branch (None, 40, 80, 512)  2049        prune_low_magnitude_res3a_branch2\n",
      "__________________________________________________________________________________________________\n",
      "prune_low_magnitude_bn3a_branch (None, 40, 80, 512)  2049        prune_low_magnitude_res3a_branch1\n",
      "__________________________________________________________________________________________________\n",
      "prune_low_magnitude_add_3 (Prun (None, 40, 80, 512)  1           prune_low_magnitude_bn3a_branch2c\n",
      "                                                                 prune_low_magnitude_bn3a_branch1[\n",
      "__________________________________________________________________________________________________\n",
      "prune_low_magnitude_activation_ (None, 40, 80, 512)  1           prune_low_magnitude_add_3[0][0]  \n",
      "__________________________________________________________________________________________________\n",
      "prune_low_magnitude_res3b_branc (None, 40, 80, 128)  131202      prune_low_magnitude_activation_12\n",
      "__________________________________________________________________________________________________\n",
      "prune_low_magnitude_bn3b_branch (None, 40, 80, 128)  513         prune_low_magnitude_res3b_branch2\n",
      "__________________________________________________________________________________________________\n",
      "prune_low_magnitude_activation_ (None, 40, 80, 128)  1           prune_low_magnitude_bn3b_branch2a\n",
      "__________________________________________________________________________________________________\n",
      "prune_low_magnitude_res3b_branc (None, 40, 80, 128)  295042      prune_low_magnitude_activation_13\n",
      "__________________________________________________________________________________________________\n",
      "prune_low_magnitude_bn3b_branch (None, 40, 80, 128)  513         prune_low_magnitude_res3b_branch2\n",
      "__________________________________________________________________________________________________\n",
      "prune_low_magnitude_activation_ (None, 40, 80, 128)  1           prune_low_magnitude_bn3b_branch2b\n",
      "__________________________________________________________________________________________________\n",
      "prune_low_magnitude_res3b_branc (None, 40, 80, 512)  131586      prune_low_magnitude_activation_14\n",
      "__________________________________________________________________________________________________\n",
      "prune_low_magnitude_bn3b_branch (None, 40, 80, 512)  2049        prune_low_magnitude_res3b_branch2\n",
      "__________________________________________________________________________________________________\n",
      "prune_low_magnitude_add_4 (Prun (None, 40, 80, 512)  1           prune_low_magnitude_bn3b_branch2c\n",
      "                                                                 prune_low_magnitude_activation_12\n",
      "__________________________________________________________________________________________________\n",
      "prune_low_magnitude_activation_ (None, 40, 80, 512)  1           prune_low_magnitude_add_4[0][0]  \n",
      "__________________________________________________________________________________________________\n",
      "prune_low_magnitude_res3c_branc (None, 40, 80, 128)  131202      prune_low_magnitude_activation_15\n",
      "__________________________________________________________________________________________________\n",
      "prune_low_magnitude_bn3c_branch (None, 40, 80, 128)  513         prune_low_magnitude_res3c_branch2\n",
      "__________________________________________________________________________________________________\n",
      "prune_low_magnitude_activation_ (None, 40, 80, 128)  1           prune_low_magnitude_bn3c_branch2a\n",
      "__________________________________________________________________________________________________\n",
      "prune_low_magnitude_res3c_branc (None, 40, 80, 128)  295042      prune_low_magnitude_activation_16\n",
      "__________________________________________________________________________________________________\n",
      "prune_low_magnitude_bn3c_branch (None, 40, 80, 128)  513         prune_low_magnitude_res3c_branch2\n",
      "__________________________________________________________________________________________________\n",
      "prune_low_magnitude_activation_ (None, 40, 80, 128)  1           prune_low_magnitude_bn3c_branch2b\n",
      "__________________________________________________________________________________________________\n",
      "prune_low_magnitude_res3c_branc (None, 40, 80, 512)  131586      prune_low_magnitude_activation_17\n",
      "__________________________________________________________________________________________________\n",
      "prune_low_magnitude_bn3c_branch (None, 40, 80, 512)  2049        prune_low_magnitude_res3c_branch2\n",
      "__________________________________________________________________________________________________\n",
      "prune_low_magnitude_add_5 (Prun (None, 40, 80, 512)  1           prune_low_magnitude_bn3c_branch2c\n",
      "                                                                 prune_low_magnitude_activation_15\n",
      "__________________________________________________________________________________________________\n",
      "prune_low_magnitude_activation_ (None, 40, 80, 512)  1           prune_low_magnitude_add_5[0][0]  \n",
      "__________________________________________________________________________________________________\n",
      "prune_low_magnitude_res3d_branc (None, 40, 80, 128)  131202      prune_low_magnitude_activation_18\n",
      "__________________________________________________________________________________________________\n",
      "prune_low_magnitude_bn3d_branch (None, 40, 80, 128)  513         prune_low_magnitude_res3d_branch2\n",
      "__________________________________________________________________________________________________\n",
      "prune_low_magnitude_activation_ (None, 40, 80, 128)  1           prune_low_magnitude_bn3d_branch2a\n",
      "__________________________________________________________________________________________________\n",
      "prune_low_magnitude_res3d_branc (None, 40, 80, 128)  295042      prune_low_magnitude_activation_19\n",
      "__________________________________________________________________________________________________\n",
      "prune_low_magnitude_bn3d_branch (None, 40, 80, 128)  513         prune_low_magnitude_res3d_branch2\n",
      "__________________________________________________________________________________________________\n",
      "prune_low_magnitude_activation_ (None, 40, 80, 128)  1           prune_low_magnitude_bn3d_branch2b\n",
      "__________________________________________________________________________________________________\n",
      "prune_low_magnitude_res3d_branc (None, 40, 80, 512)  131586      prune_low_magnitude_activation_20\n",
      "__________________________________________________________________________________________________\n",
      "prune_low_magnitude_bn3d_branch (None, 40, 80, 512)  2049        prune_low_magnitude_res3d_branch2\n",
      "__________________________________________________________________________________________________\n",
      "prune_low_magnitude_add_6 (Prun (None, 40, 80, 512)  1           prune_low_magnitude_bn3d_branch2c\n",
      "                                                                 prune_low_magnitude_activation_18\n",
      "__________________________________________________________________________________________________\n",
      "prune_low_magnitude_activation_ (None, 40, 80, 512)  1           prune_low_magnitude_add_6[0][0]  \n",
      "__________________________________________________________________________________________________\n",
      "prune_low_magnitude_res4a_branc (None, 20, 40, 256)  262402      prune_low_magnitude_activation_21\n",
      "__________________________________________________________________________________________________\n",
      "prune_low_magnitude_bn4a_branch (None, 20, 40, 256)  1025        prune_low_magnitude_res4a_branch2\n",
      "__________________________________________________________________________________________________\n",
      "prune_low_magnitude_activation_ (None, 20, 40, 256)  1           prune_low_magnitude_bn4a_branch2a\n",
      "__________________________________________________________________________________________________\n",
      "prune_low_magnitude_res4a_branc (None, 20, 40, 256)  1179906     prune_low_magnitude_activation_22\n",
      "__________________________________________________________________________________________________\n",
      "prune_low_magnitude_bn4a_branch (None, 20, 40, 256)  1025        prune_low_magnitude_res4a_branch2\n",
      "__________________________________________________________________________________________________\n",
      "prune_low_magnitude_activation_ (None, 20, 40, 256)  1           prune_low_magnitude_bn4a_branch2b\n",
      "__________________________________________________________________________________________________\n",
      "prune_low_magnitude_res4a_branc (None, 20, 40, 1024) 525314      prune_low_magnitude_activation_23\n",
      "__________________________________________________________________________________________________\n",
      "prune_low_magnitude_res4a_branc (None, 20, 40, 1024) 1049602     prune_low_magnitude_activation_21\n",
      "__________________________________________________________________________________________________\n",
      "prune_low_magnitude_bn4a_branch (None, 20, 40, 1024) 4097        prune_low_magnitude_res4a_branch2\n",
      "__________________________________________________________________________________________________\n",
      "prune_low_magnitude_bn4a_branch (None, 20, 40, 1024) 4097        prune_low_magnitude_res4a_branch1\n",
      "__________________________________________________________________________________________________\n",
      "prune_low_magnitude_add_7 (Prun (None, 20, 40, 1024) 1           prune_low_magnitude_bn4a_branch2c\n",
      "                                                                 prune_low_magnitude_bn4a_branch1[\n",
      "__________________________________________________________________________________________________\n",
      "prune_low_magnitude_activation_ (None, 20, 40, 1024) 1           prune_low_magnitude_add_7[0][0]  \n",
      "__________________________________________________________________________________________________\n",
      "prune_low_magnitude_res4b_branc (None, 20, 40, 256)  524546      prune_low_magnitude_activation_24\n",
      "__________________________________________________________________________________________________\n",
      "prune_low_magnitude_bn4b_branch (None, 20, 40, 256)  1025        prune_low_magnitude_res4b_branch2\n",
      "__________________________________________________________________________________________________\n",
      "prune_low_magnitude_activation_ (None, 20, 40, 256)  1           prune_low_magnitude_bn4b_branch2a\n",
      "__________________________________________________________________________________________________\n",
      "prune_low_magnitude_res4b_branc (None, 20, 40, 256)  1179906     prune_low_magnitude_activation_25\n",
      "__________________________________________________________________________________________________\n",
      "prune_low_magnitude_bn4b_branch (None, 20, 40, 256)  1025        prune_low_magnitude_res4b_branch2\n",
      "__________________________________________________________________________________________________\n",
      "prune_low_magnitude_activation_ (None, 20, 40, 256)  1           prune_low_magnitude_bn4b_branch2b\n",
      "__________________________________________________________________________________________________\n",
      "prune_low_magnitude_res4b_branc (None, 20, 40, 1024) 525314      prune_low_magnitude_activation_26\n",
      "__________________________________________________________________________________________________\n",
      "prune_low_magnitude_bn4b_branch (None, 20, 40, 1024) 4097        prune_low_magnitude_res4b_branch2\n",
      "__________________________________________________________________________________________________\n",
      "prune_low_magnitude_add_8 (Prun (None, 20, 40, 1024) 1           prune_low_magnitude_bn4b_branch2c\n",
      "                                                                 prune_low_magnitude_activation_24\n",
      "__________________________________________________________________________________________________\n",
      "prune_low_magnitude_activation_ (None, 20, 40, 1024) 1           prune_low_magnitude_add_8[0][0]  \n",
      "__________________________________________________________________________________________________\n",
      "prune_low_magnitude_res4c_branc (None, 20, 40, 256)  524546      prune_low_magnitude_activation_27\n",
      "__________________________________________________________________________________________________\n",
      "prune_low_magnitude_bn4c_branch (None, 20, 40, 256)  1025        prune_low_magnitude_res4c_branch2\n",
      "__________________________________________________________________________________________________\n",
      "prune_low_magnitude_activation_ (None, 20, 40, 256)  1           prune_low_magnitude_bn4c_branch2a\n",
      "__________________________________________________________________________________________________\n",
      "prune_low_magnitude_res4c_branc (None, 20, 40, 256)  1179906     prune_low_magnitude_activation_28\n",
      "__________________________________________________________________________________________________\n",
      "prune_low_magnitude_bn4c_branch (None, 20, 40, 256)  1025        prune_low_magnitude_res4c_branch2\n",
      "__________________________________________________________________________________________________\n",
      "prune_low_magnitude_activation_ (None, 20, 40, 256)  1           prune_low_magnitude_bn4c_branch2b\n",
      "__________________________________________________________________________________________________\n",
      "prune_low_magnitude_res4c_branc (None, 20, 40, 1024) 525314      prune_low_magnitude_activation_29\n",
      "__________________________________________________________________________________________________\n",
      "prune_low_magnitude_bn4c_branch (None, 20, 40, 1024) 4097        prune_low_magnitude_res4c_branch2\n",
      "__________________________________________________________________________________________________\n",
      "prune_low_magnitude_add_9 (Prun (None, 20, 40, 1024) 1           prune_low_magnitude_bn4c_branch2c\n",
      "                                                                 prune_low_magnitude_activation_27\n",
      "__________________________________________________________________________________________________\n",
      "prune_low_magnitude_activation_ (None, 20, 40, 1024) 1           prune_low_magnitude_add_9[0][0]  \n",
      "__________________________________________________________________________________________________\n",
      "prune_low_magnitude_res4d_branc (None, 20, 40, 256)  524546      prune_low_magnitude_activation_30\n",
      "__________________________________________________________________________________________________\n",
      "prune_low_magnitude_bn4d_branch (None, 20, 40, 256)  1025        prune_low_magnitude_res4d_branch2\n",
      "__________________________________________________________________________________________________\n",
      "prune_low_magnitude_activation_ (None, 20, 40, 256)  1           prune_low_magnitude_bn4d_branch2a\n",
      "__________________________________________________________________________________________________\n",
      "prune_low_magnitude_res4d_branc (None, 20, 40, 256)  1179906     prune_low_magnitude_activation_31\n",
      "__________________________________________________________________________________________________\n",
      "prune_low_magnitude_bn4d_branch (None, 20, 40, 256)  1025        prune_low_magnitude_res4d_branch2\n",
      "__________________________________________________________________________________________________\n",
      "prune_low_magnitude_activation_ (None, 20, 40, 256)  1           prune_low_magnitude_bn4d_branch2b\n",
      "__________________________________________________________________________________________________\n",
      "prune_low_magnitude_res4d_branc (None, 20, 40, 1024) 525314      prune_low_magnitude_activation_32\n",
      "__________________________________________________________________________________________________\n",
      "prune_low_magnitude_bn4d_branch (None, 20, 40, 1024) 4097        prune_low_magnitude_res4d_branch2\n",
      "__________________________________________________________________________________________________\n",
      "prune_low_magnitude_add_10 (Pru (None, 20, 40, 1024) 1           prune_low_magnitude_bn4d_branch2c\n",
      "                                                                 prune_low_magnitude_activation_30\n",
      "__________________________________________________________________________________________________\n",
      "prune_low_magnitude_activation_ (None, 20, 40, 1024) 1           prune_low_magnitude_add_10[0][0] \n",
      "__________________________________________________________________________________________________\n",
      "prune_low_magnitude_res4e_branc (None, 20, 40, 256)  524546      prune_low_magnitude_activation_33\n",
      "__________________________________________________________________________________________________\n",
      "prune_low_magnitude_bn4e_branch (None, 20, 40, 256)  1025        prune_low_magnitude_res4e_branch2\n",
      "__________________________________________________________________________________________________\n",
      "prune_low_magnitude_activation_ (None, 20, 40, 256)  1           prune_low_magnitude_bn4e_branch2a\n",
      "__________________________________________________________________________________________________\n",
      "prune_low_magnitude_res4e_branc (None, 20, 40, 256)  1179906     prune_low_magnitude_activation_34\n",
      "__________________________________________________________________________________________________\n",
      "prune_low_magnitude_bn4e_branch (None, 20, 40, 256)  1025        prune_low_magnitude_res4e_branch2\n",
      "__________________________________________________________________________________________________\n",
      "prune_low_magnitude_activation_ (None, 20, 40, 256)  1           prune_low_magnitude_bn4e_branch2b\n",
      "__________________________________________________________________________________________________\n",
      "prune_low_magnitude_res4e_branc (None, 20, 40, 1024) 525314      prune_low_magnitude_activation_35\n",
      "__________________________________________________________________________________________________\n",
      "prune_low_magnitude_bn4e_branch (None, 20, 40, 1024) 4097        prune_low_magnitude_res4e_branch2\n",
      "__________________________________________________________________________________________________\n",
      "prune_low_magnitude_add_11 (Pru (None, 20, 40, 1024) 1           prune_low_magnitude_bn4e_branch2c\n",
      "                                                                 prune_low_magnitude_activation_33\n",
      "__________________________________________________________________________________________________\n",
      "prune_low_magnitude_activation_ (None, 20, 40, 1024) 1           prune_low_magnitude_add_11[0][0] \n",
      "__________________________________________________________________________________________________\n",
      "prune_low_magnitude_res4f_branc (None, 20, 40, 256)  524546      prune_low_magnitude_activation_36\n",
      "__________________________________________________________________________________________________\n",
      "prune_low_magnitude_bn4f_branch (None, 20, 40, 256)  1025        prune_low_magnitude_res4f_branch2\n",
      "__________________________________________________________________________________________________\n",
      "prune_low_magnitude_activation_ (None, 20, 40, 256)  1           prune_low_magnitude_bn4f_branch2a\n",
      "__________________________________________________________________________________________________\n",
      "prune_low_magnitude_res4f_branc (None, 20, 40, 256)  1179906     prune_low_magnitude_activation_37\n",
      "__________________________________________________________________________________________________\n",
      "prune_low_magnitude_bn4f_branch (None, 20, 40, 256)  1025        prune_low_magnitude_res4f_branch2\n",
      "__________________________________________________________________________________________________\n",
      "prune_low_magnitude_activation_ (None, 20, 40, 256)  1           prune_low_magnitude_bn4f_branch2b\n",
      "__________________________________________________________________________________________________\n",
      "prune_low_magnitude_res4f_branc (None, 20, 40, 1024) 525314      prune_low_magnitude_activation_38\n",
      "__________________________________________________________________________________________________\n",
      "prune_low_magnitude_bn4f_branch (None, 20, 40, 1024) 4097        prune_low_magnitude_res4f_branch2\n",
      "__________________________________________________________________________________________________\n",
      "prune_low_magnitude_add_12 (Pru (None, 20, 40, 1024) 1           prune_low_magnitude_bn4f_branch2c\n",
      "                                                                 prune_low_magnitude_activation_36\n",
      "__________________________________________________________________________________________________\n",
      "prune_low_magnitude_activation_ (None, 20, 40, 1024) 1           prune_low_magnitude_add_12[0][0] \n",
      "__________________________________________________________________________________________________\n",
      "prune_low_magnitude_zero_paddin (None, 22, 42, 1024) 1           prune_low_magnitude_activation_39\n",
      "__________________________________________________________________________________________________\n",
      "prune_low_magnitude_conv2d (Pru (None, 20, 40, 512)  9437698     prune_low_magnitude_zero_padding2\n",
      "__________________________________________________________________________________________________\n",
      "prune_low_magnitude_batch_norma (None, 20, 40, 512)  2049        prune_low_magnitude_conv2d[0][0] \n",
      "__________________________________________________________________________________________________\n",
      "prune_low_magnitude_up_sampling (None, 40, 80, 512)  1           prune_low_magnitude_batch_normali\n",
      "__________________________________________________________________________________________________\n",
      "prune_low_magnitude_zero_paddin (None, 42, 82, 512)  1           prune_low_magnitude_up_sampling2d\n",
      "__________________________________________________________________________________________________\n",
      "prune_low_magnitude_conv2d_1 (P (None, 40, 80, 256)  2359554     prune_low_magnitude_zero_padding2\n",
      "__________________________________________________________________________________________________\n",
      "prune_low_magnitude_batch_norma (None, 40, 80, 256)  1025        prune_low_magnitude_conv2d_1[0][0\n",
      "__________________________________________________________________________________________________\n",
      "prune_low_magnitude_up_sampling (None, 80, 160, 256) 1           prune_low_magnitude_batch_normali\n",
      "__________________________________________________________________________________________________\n",
      "prune_low_magnitude_zero_paddin (None, 82, 162, 256) 1           prune_low_magnitude_up_sampling2d\n",
      "__________________________________________________________________________________________________\n",
      "prune_low_magnitude_conv2d_2 (P (None, 80, 160, 128) 589954      prune_low_magnitude_zero_padding2\n",
      "__________________________________________________________________________________________________\n",
      "prune_low_magnitude_batch_norma (None, 80, 160, 128) 513         prune_low_magnitude_conv2d_2[0][0\n",
      "__________________________________________________________________________________________________\n",
      "prune_low_magnitude_up_sampling (None, 160, 320, 128 1           prune_low_magnitude_batch_normali\n",
      "__________________________________________________________________________________________________\n",
      "prune_low_magnitude_zero_paddin (None, 162, 322, 128 1           prune_low_magnitude_up_sampling2d\n",
      "__________________________________________________________________________________________________\n",
      "prune_low_magnitude_seg_feats ( (None, 160, 320, 64) 147522      prune_low_magnitude_zero_padding2\n",
      "__________________________________________________________________________________________________\n",
      "prune_low_magnitude_batch_norma (None, 160, 320, 64) 257         prune_low_magnitude_seg_feats[0][\n",
      "__________________________________________________________________________________________________\n",
      "prune_low_magnitude_conv2d_3 (P (None, 160, 320, 50) 57652       prune_low_magnitude_batch_normali\n",
      "__________________________________________________________________________________________________\n",
      "prune_low_magnitude_reshape (Pr (None, 51200, 50)    1           prune_low_magnitude_conv2d_3[0][0\n",
      "__________________________________________________________________________________________________\n",
      "prune_low_magnitude_activation_ (None, 51200, 50)    1           prune_low_magnitude_reshape[0][0]\n",
      "==================================================================================================\n",
      "Total params: 29,698,305\n",
      "Trainable params: 14,857,202\n",
      "Non-trainable params: 14,841,103\n",
      "__________________________________________________________________________________________________\n"
     ]
    }
   ],
   "source": [
    "model_for_pruning.summary()"
   ]
  },
  {
   "cell_type": "code",
   "execution_count": 14,
   "id": "6250de17",
   "metadata": {},
   "outputs": [],
   "source": [
    "p_checkpoints_path = 'divam_ss_pruned_weights_r_segnet_tflite'\n",
    "p_checkpoint = ModelCheckpoint(filepath=p_checkpoints_path + \"{epoch:02d}.h5\",save_weights_only=True,save_best_only=True,\n",
    "                               monitor='loss',\n",
    "                              verbose=True)"
   ]
  },
  {
   "cell_type": "code",
   "execution_count": null,
   "id": "23528d5d",
   "metadata": {},
   "outputs": [],
   "source": [
    "log_dir = './pruning_logs'\n",
    "p_callbacks = [\n",
    "    tfmot.sparsity.keras.UpdatePruningStep(),\n",
    "    # Log sparsity and other metrics in Tensorboard.\n",
    "    tfmot.sparsity.keras.PruningSummaries(log_dir=log_dir),p_checkpoint]"
   ]
  },
  {
   "cell_type": "code",
   "execution_count": 15,
   "id": "0a439890",
   "metadata": {},
   "outputs": [],
   "source": [
    "import tensorflow\n",
    "# Better Model callbacks\n",
    "log_dir = '.\\pruning_logs'\n",
    "p_callbacks_n = [\n",
    "  tfmot.sparsity.keras.UpdatePruningStep(),\n",
    "  tensorflow.keras.callbacks.TensorBoard(log_dir=log_dir, profile_batch = 100000000, histogram_freq=0, write_graph=True, write_grads=False, write_images=False, embeddings_freq=0, embeddings_layer_names=None, embeddings_metadata=None, embeddings_data=None, update_freq='epoch'),\n",
    "  tfmot.sparsity.keras.PruningSummaries(\n",
    "    log_dir, update_freq='epoch'\n",
    "  ), p_checkpoint\n",
    "]"
   ]
  },
  {
   "cell_type": "code",
   "execution_count": 16,
   "id": "133d2697",
   "metadata": {},
   "outputs": [],
   "source": [
    "loss_k = 'categorical_crossentropy'\n",
    "\n",
    "model_for_pruning.compile(loss=loss_k,\n",
    "                      optimizer='adam',\n",
    "                      metrics=['accuracy'])"
   ]
  },
  {
   "cell_type": "code",
   "execution_count": 17,
   "id": "69fa0041",
   "metadata": {},
   "outputs": [
    {
     "name": "stderr",
     "output_type": "stream",
     "text": [
      "/home/mohan/virtualenv/divamgupta_tf2/lib/python3.6/site-packages/keras/utils/generic_utils.py:497: CustomMaskWarning: Custom mask layers require a config and must override get_config. When loading, the custom mask layer must be passed to the custom_objects argument.\n",
      "  category=CustomMaskWarning)\n"
     ]
    },
    {
     "name": "stdout",
     "output_type": "stream",
     "text": [
      "Epoch 1/10\n",
      "  6/512 [..............................] - ETA: 4:28 - loss: 0.0889 - accuracy: 0.9656WARNING:tensorflow:Callback method `on_train_batch_end` is slow compared to the batch time (batch time: 0.0776s vs `on_train_batch_end` time: 0.3486s). Check your callbacks.\n",
      "512/512 [==============================] - 82s 111ms/step - loss: 0.0923 - accuracy: 0.9653\n",
      "\n",
      "Epoch 00001: loss improved from inf to 0.09226, saving model to divam_ss_pruned_weights_r_segnet_tflite01.h5\n",
      "Epoch 2/10\n",
      "512/512 [==============================] - 53s 104ms/step - loss: 0.0858 - accuracy: 0.9675\n",
      "\n",
      "Epoch 00002: loss improved from 0.09226 to 0.08584, saving model to divam_ss_pruned_weights_r_segnet_tflite02.h5\n",
      "Epoch 3/10\n",
      "512/512 [==============================] - 53s 103ms/step - loss: 0.0820 - accuracy: 0.9687\n",
      "\n",
      "Epoch 00003: loss improved from 0.08584 to 0.08197, saving model to divam_ss_pruned_weights_r_segnet_tflite03.h5\n",
      "Epoch 4/10\n",
      "512/512 [==============================] - 53s 103ms/step - loss: 0.0763 - accuracy: 0.9707\n",
      "\n",
      "Epoch 00004: loss improved from 0.08197 to 0.07634, saving model to divam_ss_pruned_weights_r_segnet_tflite04.h5\n",
      "Epoch 5/10\n",
      "512/512 [==============================] - 53s 104ms/step - loss: 0.0721 - accuracy: 0.9721\n",
      "\n",
      "Epoch 00005: loss improved from 0.07634 to 0.07212, saving model to divam_ss_pruned_weights_r_segnet_tflite05.h5\n",
      "Epoch 6/10\n",
      "512/512 [==============================] - 53s 103ms/step - loss: 0.0669 - accuracy: 0.9740\n",
      "\n",
      "Epoch 00006: loss improved from 0.07212 to 0.06689, saving model to divam_ss_pruned_weights_r_segnet_tflite06.h5\n",
      "Epoch 7/10\n",
      "512/512 [==============================] - 53s 103ms/step - loss: 0.0627 - accuracy: 0.9755\n",
      "\n",
      "Epoch 00007: loss improved from 0.06689 to 0.06273, saving model to divam_ss_pruned_weights_r_segnet_tflite07.h5\n",
      "Epoch 8/10\n",
      "512/512 [==============================] - 53s 103ms/step - loss: 0.0605 - accuracy: 0.9763\n",
      "\n",
      "Epoch 00008: loss improved from 0.06273 to 0.06053, saving model to divam_ss_pruned_weights_r_segnet_tflite08.h5\n",
      "Epoch 9/10\n",
      "512/512 [==============================] - 53s 104ms/step - loss: 0.0592 - accuracy: 0.9768\n",
      "\n",
      "Epoch 00009: loss improved from 0.06053 to 0.05919, saving model to divam_ss_pruned_weights_r_segnet_tflite09.h5\n",
      "Epoch 10/10\n",
      "512/512 [==============================] - 53s 104ms/step - loss: 0.0587 - accuracy: 0.9769\n",
      "\n",
      "Epoch 00010: loss improved from 0.05919 to 0.05867, saving model to divam_ss_pruned_weights_r_segnet_tflite10.h5\n"
     ]
    },
    {
     "data": {
      "text/plain": [
       "<keras.callbacks.History at 0x7f6ab17e65c0>"
      ]
     },
     "execution_count": 17,
     "metadata": {},
     "output_type": "execute_result"
    }
   ],
   "source": [
    "initial_epoch=0\n",
    "model_for_pruning.fit(train_gen, steps_per_epoch=steps_per_epoch,\n",
    "                  epochs=10, callbacks=p_callbacks_n, initial_epoch=initial_epoch)"
   ]
  },
  {
   "cell_type": "code",
   "execution_count": null,
   "id": "96d889a0",
   "metadata": {},
   "outputs": [],
   "source": [
    "pr = model_for_pruning.predict(np.array([x]))[0]\n",
    "pr_p1 = pr.reshape((output_height,  output_width, n_classes)).argmax(axis=2)"
   ]
  },
  {
   "cell_type": "code",
   "execution_count": null,
   "id": "8e194508",
   "metadata": {},
   "outputs": [],
   "source": [
    "model_for_pruning.save('divam_ss_pruned_ep_model_20_r_segnet.h5')"
   ]
  },
  {
   "cell_type": "markdown",
   "id": "fec8c0bf",
   "metadata": {},
   "source": [
    "#### Strip pruning to remove the pruning layer names to the default"
   ]
  },
  {
   "cell_type": "code",
   "execution_count": 18,
   "id": "989154f7",
   "metadata": {},
   "outputs": [
    {
     "name": "stdout",
     "output_type": "stream",
     "text": [
      "WARNING:tensorflow:Compiled the loaded model, but the compiled metrics have yet to be built. `model.compile_metrics` will be empty until you train or evaluate the model.\n"
     ]
    }
   ],
   "source": [
    "model_for_export = tfmot.sparsity.keras.strip_pruning(model_for_pruning)\n",
    "model_for_export.save('striped_divam_ss_pruned_ep_model_20_r_segnet_tflite.h5', include_optimizer=False)"
   ]
  },
  {
   "cell_type": "code",
   "execution_count": null,
   "id": "fee72f96",
   "metadata": {},
   "outputs": [],
   "source": [
    "model_for_pruning.save_weights('divam_ss_pruned_ep_weights_20_new.h5')"
   ]
  },
  {
   "cell_type": "markdown",
   "id": "783a54e7",
   "metadata": {},
   "source": [
    "#### Saving a pruned model to tflite"
   ]
  },
  {
   "cell_type": "code",
   "execution_count": 23,
   "id": "dc1875d0",
   "metadata": {},
   "outputs": [
    {
     "name": "stdout",
     "output_type": "stream",
     "text": [
      "WARNING:tensorflow:Compiled the loaded model, but the compiled metrics have yet to be built. `model.compile_metrics` will be empty until you train or evaluate the model.\n"
     ]
    },
    {
     "name": "stderr",
     "output_type": "stream",
     "text": [
      "WARNING:tensorflow:Compiled the loaded model, but the compiled metrics have yet to be built. `model.compile_metrics` will be empty until you train or evaluate the model.\n"
     ]
    },
    {
     "name": "stdout",
     "output_type": "stream",
     "text": [
      "INFO:tensorflow:Assets written to: /tmp/tmp6_ibuc1j/assets\n"
     ]
    },
    {
     "name": "stderr",
     "output_type": "stream",
     "text": [
      "INFO:tensorflow:Assets written to: /tmp/tmp6_ibuc1j/assets\n",
      "/home/mohan/virtualenv/divamgupta_tf2/lib/python3.6/site-packages/keras/utils/generic_utils.py:497: CustomMaskWarning: Custom mask layers require a config and must override get_config. When loading, the custom mask layer must be passed to the custom_objects argument.\n",
      "  category=CustomMaskWarning)\n"
     ]
    },
    {
     "name": "stdout",
     "output_type": "stream",
     "text": [
      "Saved pruned TFLite model to: pruning_r_segnet.tflite\n"
     ]
    }
   ],
   "source": [
    "import tensorflow as tf\n",
    "#import tempfile\n",
    "\n",
    "converter = tf.lite.TFLiteConverter.from_keras_model(model_for_export)\n",
    "pruned_tflite_model = converter.convert()\n",
    "\n",
    "#_, pruned_tflite_file = tempfile.mkstemp('.tflite')\n",
    "pruned_tflite_file = 'pruning_r_segnet' + '.tflite'\n",
    "\n",
    "with open(pruned_tflite_file, 'wb') as f:\n",
    "  f.write(pruned_tflite_model)\n",
    "\n",
    "print('Saved pruned TFLite model to:', pruned_tflite_file)"
   ]
  },
  {
   "cell_type": "markdown",
   "id": "7ba6dd6c",
   "metadata": {},
   "source": [
    "#### tflite inference"
   ]
  },
  {
   "cell_type": "code",
   "execution_count": 37,
   "id": "b3c7ba4c",
   "metadata": {},
   "outputs": [],
   "source": [
    "import tensorflow as tf\n",
    "import numpy as np\n",
    "\n",
    "# Load TFLite model and allocate tensors.\n",
    "interpreter = tf.lite.Interpreter(model_content=tflite_model_p)\n",
    "interpreter.allocate_tensors()\n",
    "#get input and output tensors\n",
    "input_details = interpreter.get_input_details()\n",
    "output_details = interpreter.get_output_details()\n",
    "\n",
    "input_index = interpreter.get_input_details()[0][\"index\"]\n",
    "output_index = interpreter.get_output_details()[0][\"index\"]\n",
    "\n",
    "\n",
    "input_tensor= np.array(np.expand_dims(x,0), dtype=np.float32)\n",
    "interpreter.set_tensor(input_index, input_tensor)\n",
    "\n",
    "#Run the inference\n",
    "interpreter.invoke()\n",
    "\n",
    "output_details = interpreter.get_output_details()\n",
    "prediction = interpreter.get_tensor(output_details[0]['index'])[0]\n",
    "pr_p1 = prediction.reshape((output_height,  output_width, n_classes)).argmax(axis=2)"
   ]
  },
  {
   "cell_type": "code",
   "execution_count": 26,
   "id": "fba51e26",
   "metadata": {},
   "outputs": [
    {
     "data": {
      "text/plain": [
       "[{'name': 'Identity',\n",
       "  'index': 180,\n",
       "  'shape': array([    1, 51200,    50], dtype=int32),\n",
       "  'shape_signature': array([   -1, 51200,    -1], dtype=int32),\n",
       "  'dtype': numpy.float32,\n",
       "  'quantization': (0.0, 0),\n",
       "  'quantization_parameters': {'scales': array([], dtype=float32),\n",
       "   'zero_points': array([], dtype=int32),\n",
       "   'quantized_dimension': 0},\n",
       "  'sparsity_parameters': {}}]"
      ]
     },
     "execution_count": 26,
     "metadata": {},
     "output_type": "execute_result"
    }
   ],
   "source": [
    "output_details"
   ]
  },
  {
   "cell_type": "code",
   "execution_count": 28,
   "id": "ae337d63",
   "metadata": {},
   "outputs": [
    {
     "data": {
      "text/plain": [
       "(51200, 50)"
      ]
     },
     "execution_count": 28,
     "metadata": {},
     "output_type": "execute_result"
    }
   ],
   "source": [
    "prediction.shape"
   ]
  },
  {
   "cell_type": "code",
   "execution_count": 32,
   "id": "ceb6da1a",
   "metadata": {},
   "outputs": [
    {
     "data": {
      "text/plain": [
       "<matplotlib.image.AxesImage at 0x7f9d58046978>"
      ]
     },
     "execution_count": 32,
     "metadata": {},
     "output_type": "execute_result"
    },
    {
     "data": {
      "image/png": "[encoded data removed]",
      "text/plain": [
       "<Figure size 432x288 with 1 Axes>"
      ]
     },
     "metadata": {
      "needs_background": "light"
     },
     "output_type": "display_data"
    }
   ],
   "source": [
    "import matplotlib.pyplot as plt\n",
    "plt.imshow(pr_p1)"
   ]
  },
  {
   "cell_type": "markdown",
   "id": "71e8fa50",
   "metadata": {},
   "source": [
    "#### Loading a pruned tflite model"
   ]
  },
  {
   "cell_type": "code",
   "execution_count": 35,
   "id": "84aceb8a",
   "metadata": {},
   "outputs": [],
   "source": [
    "pruned_tflite_model2='./pruning_r_segnet.tflite'"
   ]
  },
  {
   "cell_type": "code",
   "execution_count": 63,
   "id": "5ad04a0a",
   "metadata": {},
   "outputs": [],
   "source": [
    "import tensorflow as tf\n",
    "interpreter2 = tf.lite.Interpreter(model_content=pruned_tflite_model)"
   ]
  },
  {
   "cell_type": "markdown",
   "id": "9724b787",
   "metadata": {},
   "source": [
    "#### Converting a pruned model to a TFlite model"
   ]
  },
  {
   "cell_type": "code",
   "execution_count": 9,
   "id": "9ca28cf2",
   "metadata": {},
   "outputs": [
    {
     "name": "stdout",
     "output_type": "stream",
     "text": [
      "WARNING:tensorflow:Compiled the loaded model, but the compiled metrics have yet to be built. `model.compile_metrics` will be empty until you train or evaluate the model.\n",
      "INFO:tensorflow:Assets written to: /tmp/tmp0bl0t3e1/assets\n"
     ]
    },
    {
     "name": "stderr",
     "output_type": "stream",
     "text": [
      "/home/mohan/virtualenv/divamgupta_tf2/lib/python3.6/site-packages/keras/utils/generic_utils.py:497: CustomMaskWarning: Custom mask layers require a config and must override get_config. When loading, the custom mask layer must be passed to the custom_objects argument.\n",
      "  category=CustomMaskWarning)\n"
     ]
    }
   ],
   "source": [
    "converter = tf.lite.TFLiteConverter.from_keras_model(model_p)\n",
    "converter.optimizations = [tf.lite.Optimize.DEFAULT]\n",
    "quantized_and_pruned_tflite_model = converter.convert()"
   ]
  },
  {
   "cell_type": "markdown",
   "id": "a471e54e",
   "metadata": {},
   "source": [
    "#### Saving a TFlite model"
   ]
  },
  {
   "cell_type": "code",
   "execution_count": 10,
   "id": "c8e3e583",
   "metadata": {},
   "outputs": [
    {
     "name": "stdout",
     "output_type": "stream",
     "text": [
      "Saved pruned quantized TFLite model to: prun_quan_r_segnet.tflite\n"
     ]
    }
   ],
   "source": [
    "pruned_quantized_tflite_file = 'prun_quan_r_segnet' + '.tflite'\n",
    "\n",
    "with open(pruned_quantized_tflite_file, 'wb') as f:\n",
    "  f.write(quantized_and_pruned_tflite_model)\n",
    "\n",
    "print('Saved pruned quantized TFLite model to:', pruned_quantized_tflite_file)"
   ]
  },
  {
   "cell_type": "markdown",
   "id": "41cacab9",
   "metadata": {},
   "source": [
    "#### Loading a TFlite model"
   ]
  },
  {
   "cell_type": "code",
   "execution_count": 11,
   "id": "e40fa9c0",
   "metadata": {},
   "outputs": [],
   "source": [
    "prun_quan_tflite_model2='./prun_quan_r_segnet.tflite'\n",
    "with open(prun_quan_tflite_model2, 'rb') as fid:\n",
    "    tflite_p_q_model = fid.read()"
   ]
  },
  {
   "cell_type": "markdown",
   "id": "4b7d9359",
   "metadata": {},
   "source": [
    "### End to end inference from a loaded model"
   ]
  },
  {
   "cell_type": "code",
   "execution_count": 7,
   "id": "c3d76e10",
   "metadata": {},
   "outputs": [
    {
     "name": "stdout",
     "output_type": "stream",
     "text": [
      "WARNING:tensorflow:No training configuration found in the save file, so the model was *not* compiled. Compile it manually.\n",
      "done\n"
     ]
    }
   ],
   "source": [
    "\n",
    "from keras_segmentation.models.unet import vgg_unet\n",
    "from tensorflow.keras.models import load_model\n",
    "\n",
    "#model9 = vgg_unet(n_classes=50 ,  input_height=320, input_width=640  )\n",
    "model_p=load_model('./striped_divam_ss_pruned_ep_model_20_r_segnet.h5')\n",
    "#model9=load_model('./dg_base_ep1.h5')\n",
    "print('done')\n"
   ]
  },
  {
   "cell_type": "code",
   "execution_count": 16,
   "id": "6717ba22",
   "metadata": {},
   "outputs": [],
   "source": [
    "import cv2\n",
    "inp = cv2.imread(\"dataset1/images_prepped_test/0016E5_07965.png\",1)"
   ]
  },
  {
   "cell_type": "code",
   "execution_count": 20,
   "id": "78453ba3",
   "metadata": {},
   "outputs": [],
   "source": [
    "n_classes = 50\n",
    "input_height = 320\n",
    "input_width = 640\n",
    "output_height = 160\n",
    "output_width = 320"
   ]
  },
  {
   "cell_type": "code",
   "execution_count": 18,
   "id": "ef22174a",
   "metadata": {},
   "outputs": [],
   "source": [
    "def get_image_array(image_input,\n",
    "                    width, height,\n",
    "                    imgNorm=\"sub_mean\", ordering='channels_first', read_image_type=1):\n",
    "    \"\"\" Load image array from input \"\"\"\n",
    "\n",
    "    if type(image_input) is np.ndarray:\n",
    "        # It is already an array, use it as it is\n",
    "        img = image_input\n",
    "    elif isinstance(image_input, six.string_types):\n",
    "        if not os.path.isfile(image_input):\n",
    "            raise DataLoaderError(\"get_image_array: path {0} doesn't exist\"\n",
    "                                  .format(image_input))\n",
    "        img = cv2.imread(image_input, read_image_type)\n",
    "    else:\n",
    "        raise DataLoaderError(\"get_image_array: Can't process input type {0}\"\n",
    "                              .format(str(type(image_input))))\n",
    "\n",
    "    if imgNorm == \"sub_and_divide\":\n",
    "        img = np.float32(cv2.resize(img, (width, height))) / 127.5 - 1\n",
    "    elif imgNorm == \"sub_mean\":\n",
    "        img = cv2.resize(img, (width, height))\n",
    "        img = img.astype(np.float32)\n",
    "        img = np.atleast_3d(img)\n",
    "\n",
    "        means = [103.939, 116.779, 123.68]\n",
    "\n",
    "        for i in range(min(img.shape[2], len(means))):\n",
    "            img[:, :, i] -= means[i]\n",
    "\n",
    "        img = img[:, :, ::-1]\n",
    "    elif imgNorm == \"divide\":\n",
    "        img = cv2.resize(img, (width, height))\n",
    "        img = img.astype(np.float32)\n",
    "        img = img/255.0\n",
    "\n",
    "    if ordering == 'channels_first':\n",
    "        img = np.rollaxis(img, 2, 0)\n",
    "    return img"
   ]
  },
  {
   "cell_type": "code",
   "execution_count": 21,
   "id": "85c49df8",
   "metadata": {},
   "outputs": [],
   "source": [
    "import numpy as np\n",
    "\n",
    "IMAGE_ORDERING = \"channels_last\"\n",
    "x = get_image_array(inp, input_width, input_height,\n",
    "                    ordering=IMAGE_ORDERING)"
   ]
  },
  {
   "cell_type": "code",
   "execution_count": 33,
   "id": "1ce40a7f",
   "metadata": {},
   "outputs": [
    {
     "data": {
      "text/plain": [
       "(320, 640, 3)"
      ]
     },
     "execution_count": 33,
     "metadata": {},
     "output_type": "execute_result"
    }
   ],
   "source": [
    "x.shape"
   ]
  },
  {
   "cell_type": "code",
   "execution_count": 35,
   "id": "6c5a1e44",
   "metadata": {},
   "outputs": [
    {
     "data": {
      "text/plain": [
       "(1, 320, 640, 3)"
      ]
     },
     "execution_count": 35,
     "metadata": {},
     "output_type": "execute_result"
    }
   ],
   "source": [
    "np.expand_dims(x,0).shape"
   ]
  },
  {
   "cell_type": "code",
   "execution_count": null,
   "id": "9ec052f6",
   "metadata": {},
   "outputs": [],
   "source": [
    "pr = model7_p.predict(np.array([x]))[0]\n",
    "pr_p = pr.reshape((output_height,  output_width, n_classes)).argmax(axis=2)"
   ]
  },
  {
   "cell_type": "code",
   "execution_count": 52,
   "id": "4e0f3173",
   "metadata": {},
   "outputs": [
    {
     "data": {
      "text/plain": [
       "<matplotlib.image.AxesImage at 0x7f669cd86b00>"
      ]
     },
     "execution_count": 52,
     "metadata": {},
     "output_type": "execute_result"
    },
    {
     "data": {
      "image/png": "[encoded data removed]",
      "text/plain": [
       "<Figure size 432x288 with 1 Axes>"
      ]
     },
     "metadata": {
      "needs_background": "light"
     },
     "output_type": "display_data"
    }
   ],
   "source": [
    "import matplotlib.pyplot as plt\n",
    "plt.imshow(pr_p)"
   ]
  },
  {
   "cell_type": "code",
   "execution_count": null,
   "id": "eb2552a5",
   "metadata": {},
   "outputs": [],
   "source": [
    "import random\n",
    "\n",
    "class_colors = [(random.randint(0, 255), random.randint(\n",
    "    0, 255), random.randint(0, 255)) for _ in range(5000)]\n",
    "\n",
    "def visualize_segmentation(seg_arr, inp_img=None, n_classes=None,\n",
    "                           colors=class_colors, class_names=None,\n",
    "                           overlay_img=False, show_legends=False,\n",
    "                           prediction_width=None, prediction_height=None):\n",
    "\n",
    "    if n_classes is None:\n",
    "        n_classes = np.max(seg_arr)\n",
    "\n",
    "    seg_img = get_colored_segmentation_image(seg_arr, n_classes, colors=colors)\n",
    "\n",
    "    if inp_img is not None:\n",
    "        original_h = inp_img.shape[0]\n",
    "        original_w = inp_img.shape[1]\n",
    "        seg_img = cv2.resize(seg_img, (original_w, original_h), interpolation=cv2.INTER_NEAREST)\n",
    "\n",
    "    if (prediction_height is not None) and (prediction_width is not None):\n",
    "        seg_img = cv2.resize(seg_img, (prediction_width, prediction_height), interpolation=cv2.INTER_NEAREST)\n",
    "        if inp_img is not None:\n",
    "            inp_img = cv2.resize(inp_img,\n",
    "                                 (prediction_width, prediction_height))\n",
    "\n",
    "    if overlay_img:\n",
    "        assert inp_img is not None\n",
    "        seg_img = overlay_seg_image(inp_img, seg_img)\n",
    "\n",
    "    if show_legends:\n",
    "        assert class_names is not None\n",
    "        legend_img = get_legends(class_names, colors=colors)\n",
    "\n",
    "        seg_img = concat_lenends(seg_img, legend_img)\n",
    "\n",
    "    return seg_img\n",
    "\n",
    "def get_colored_segmentation_image(seg_arr, n_classes, colors=class_colors):\n",
    "    output_height = seg_arr.shape[0]\n",
    "    output_width = seg_arr.shape[1]\n",
    "\n",
    "    seg_img = np.zeros((output_height, output_width, 3))\n",
    "\n",
    "    for c in range(n_classes):\n",
    "        seg_arr_c = seg_arr[:, :] == c\n",
    "        seg_img[:, :, 0] += ((seg_arr_c)*(colors[c][0])).astype('uint8')\n",
    "        seg_img[:, :, 1] += ((seg_arr_c)*(colors[c][1])).astype('uint8')\n",
    "        seg_img[:, :, 2] += ((seg_arr_c)*(colors[c][2])).astype('uint8')\n",
    "\n",
    "    return seg_img"
   ]
  },
  {
   "cell_type": "code",
   "execution_count": null,
   "id": "73fa29d6",
   "metadata": {},
   "outputs": [],
   "source": [
    "overlay_img=False\n",
    "show_legends=False\n",
    "class_names=None\n",
    "prediction_width=None\n",
    "prediction_height=None\n",
    "\n",
    "seg_img = visualize_segmentation(pr, inp, n_classes=n_classes,\n",
    "                                 colors=class_colors, overlay_img=overlay_img,\n",
    "                                 show_legends=show_legends,\n",
    "                                 class_names=class_names,\n",
    "                                 prediction_width=prediction_width,\n",
    "                                 prediction_height=prediction_height)"
   ]
  },
  {
   "cell_type": "code",
   "execution_count": null,
   "id": "70df0b76",
   "metadata": {},
   "outputs": [],
   "source": [
    "print(seg_img)"
   ]
  },
  {
   "cell_type": "code",
   "execution_count": null,
   "id": "a6e87a52",
   "metadata": {},
   "outputs": [],
   "source": [
    "import matplotlib.pyplot as plt\n",
    "plt.imshow(pr_p)"
   ]
  },
  {
   "cell_type": "code",
   "execution_count": null,
   "id": "e1e3181b",
   "metadata": {},
   "outputs": [],
   "source": [
    "from tqdm import tqdm\n",
    "import random\n",
    "class_colors = [(random.randint(0, 255), random.randint(\n",
    "    0, 255), random.randint(0, 255)) for _ in range(5000)]\n",
    "\n",
    "\n",
    "def evaluate(model=None, inp_images=None, annotations=None,\n",
    "             inp_images_dir=None, annotations_dir=None, checkpoints_path=None, read_image_type=1):\n",
    "\n",
    "    if model is None:\n",
    "        assert (checkpoints_path is not None),\\\n",
    "                \"Please provide the model or the checkpoints_path\"\n",
    "        model = model_from_checkpoint_path(checkpoints_path)\n",
    "\n",
    "    if inp_images is None:\n",
    "        assert (inp_images_dir is not None),\\\n",
    "                \"Please provide inp_images or inp_images_dir\"\n",
    "        assert (annotations_dir is not None),\\\n",
    "            \"Please provide inp_images or inp_images_dir\"\n",
    "\n",
    "        paths = get_pairs_from_paths(inp_images_dir, annotations_dir)\n",
    "        paths = list(zip(*paths))\n",
    "        inp_images = list(paths[0])\n",
    "        annotations = list(paths[1])\n",
    "\n",
    "    assert type(inp_images) is list\n",
    "    assert type(annotations) is list\n",
    "\n",
    "    tp = np.zeros(50)\n",
    "    fp = np.zeros(50)\n",
    "    fn = np.zeros(50)\n",
    "    n_pixels = np.zeros(50)\n",
    "\n",
    "    for inp, ann in tqdm(zip(inp_images, annotations)):\n",
    "        pr = predict(model, inp, read_image_type=read_image_type)\n",
    "        gt = get_segmentation_array(ann, model.n_classes,\n",
    "                                    model.output_width, model.output_height,\n",
    "                                    no_reshape=True, read_image_type=read_image_type)\n",
    "        gt = gt.argmax(-1)\n",
    "        pr = pr.flatten()\n",
    "        gt = gt.flatten()\n",
    "\n",
    "        for cl_i in range(model.n_classes):\n",
    "\n",
    "            tp[cl_i] += np.sum((pr == cl_i) * (gt == cl_i))\n",
    "            fp[cl_i] += np.sum((pr == cl_i) * ((gt != cl_i)))\n",
    "            fn[cl_i] += np.sum((pr != cl_i) * ((gt == cl_i)))\n",
    "            n_pixels[cl_i] += np.sum(gt == cl_i)\n",
    "\n",
    "    cl_wise_score = tp / (tp + fp + fn + 0.000000000001)\n",
    "    n_pixels_norm = n_pixels / np.sum(n_pixels)\n",
    "    frequency_weighted_IU = np.sum(cl_wise_score*n_pixels_norm)\n",
    "    mean_IU = np.mean(cl_wise_score)\n",
    "\n",
    "    return {\n",
    "        \"frequency_weighted_IU\": frequency_weighted_IU,\n",
    "        \"mean_IU\": mean_IU,\n",
    "        \"class_wise_IU\": cl_wise_score\n",
    "    }\n",
    "\n",
    "\n",
    "def predict(model=None, inp=None, out_fname=None,\n",
    "            checkpoints_path=None, overlay_img=False,\n",
    "            class_names=None, show_legends=False, colors=class_colors,\n",
    "            prediction_width=None, prediction_height=None,\n",
    "            read_image_type=1):\n",
    "\n",
    "    if model is None and (checkpoints_path is not None):\n",
    "        model = model_from_checkpoint_path(checkpoints_path)\n",
    "\n",
    "    assert (inp is not None)\n",
    "    assert ((type(inp) is np.ndarray) or isinstance(inp, six.string_types)),\\\n",
    "        \"Input should be the CV image or the input file name\"\n",
    "\n",
    "    if isinstance(inp, six.string_types):\n",
    "        inp = cv2.imread(inp, read_image_type)\n",
    "\n",
    "    #assert (len(inp.shape) == 3 or len(inp.shape) == 1 or len(inp.shape) == 4), \"Image should be h,w,3 \"\n",
    "\n",
    "    n_classes = 50\n",
    "    input_height = 320\n",
    "    input_width = 640\n",
    "    output_height = 160\n",
    "    output_width = 320\n",
    "\n",
    "    x = get_image_array(inp, input_width, input_height,\n",
    "                        ordering=IMAGE_ORDERING)\n",
    "    pr = model.predict(np.array([x]))[0]\n",
    "    pr = pr.reshape((output_height,  output_width, n_classes)).argmax(axis=2)\n",
    "\n",
    "    seg_img = visualize_segmentation(pr, inp, n_classes=n_classes,\n",
    "                                     colors=colors, overlay_img=overlay_img,\n",
    "                                     show_legends=show_legends,\n",
    "                                     class_names=class_names,\n",
    "                                     prediction_width=prediction_width,\n",
    "                                     prediction_height=prediction_height)\n",
    "\n",
    "    if out_fname is not None:\n",
    "        cv2.imwrite(out_fname, seg_img)\n",
    "\n",
    "    return pr\n",
    "\n",
    "class DataLoaderError(Exception):\n",
    "    pass"
   ]
  },
  {
   "cell_type": "code",
   "execution_count": null,
   "id": "8fdf47ae",
   "metadata": {},
   "outputs": [],
   "source": [
    "print(evaluate(model_p, train_images, train_annotations))"
   ]
  }
 ],
 "metadata": {
  "kernelspec": {
   "display_name": "Python 3",
   "language": "python",
   "name": "python3"
  },
  "language_info": {
   "codemirror_mode": {
    "name": "ipython",
    "version": 3
   },
   "file_extension": ".py",
   "mimetype": "text/x-python",
   "name": "python",
   "nbconvert_exporter": "python",
   "pygments_lexer": "ipython3",
   "version": "3.6.9"
  }
 },
 "nbformat": 4,
 "nbformat_minor": 5
}

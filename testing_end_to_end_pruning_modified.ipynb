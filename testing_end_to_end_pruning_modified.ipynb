{
 "cells": [
  {
   "cell_type": "code",
   "execution_count": 1,
   "id": "7b578bdf",
   "metadata": {},
   "outputs": [],
   "source": [
    "from keras_segmentation.models.all_models import model_from_name\n",
    "import six\n",
    "from keras_segmentation.data_utils.data_loader import image_segmentation_generator, \\\n",
    "    verify_segmentation_dataset\n",
    "from keras.callbacks import Callback\n",
    "from tensorflow.keras.callbacks import ModelCheckpoint\n",
    "\n",
    "## loading tensorboard\n",
    "\n",
    "%load_ext tensorboard"
   ]
  },
  {
   "cell_type": "markdown",
   "id": "c1d28933",
   "metadata": {},
   "source": [
    "### End to end training of the sample model"
   ]
  },
  {
   "cell_type": "code",
   "execution_count": null,
   "id": "c2bd9a9b",
   "metadata": {},
   "outputs": [],
   "source": [
    "from keras_segmentation.models.unet import vgg_unet\n",
    "\n",
    "model = vgg_unet(n_classes=50 ,  input_height=320, input_width=640  )"
   ]
  },
  {
   "cell_type": "code",
   "execution_count": null,
   "id": "1d9ab10b",
   "metadata": {},
   "outputs": [],
   "source": [
    "model.train(\n",
    "    train_images =  \"dataset1/images_prepped_train/\",\n",
    "    train_annotations = \"dataset1/annotations_prepped_train/\",\n",
    "    checkpoints_path = \"/tmp/vgg_unet_1\" , epochs=1\n",
    ")"
   ]
  },
  {
   "cell_type": "code",
   "execution_count": null,
   "id": "dad4491c",
   "metadata": {},
   "outputs": [],
   "source": [
    "out = model1.predict_segmentation(\n",
    "    inp=\"dataset1/images_prepped_test/0016E5_07965.png\",\n",
    "    out_fname=\"/tmp/out.png\"\n",
    ")"
   ]
  },
  {
   "cell_type": "code",
   "execution_count": null,
   "id": "9753e872",
   "metadata": {},
   "outputs": [],
   "source": [
    "import matplotlib.pyplot as plt\n",
    "plt.imshow(out)"
   ]
  },
  {
   "cell_type": "markdown",
   "id": "abb84f6e",
   "metadata": {},
   "source": [
    "### Loading a simple model"
   ]
  },
  {
   "cell_type": "code",
   "execution_count": 2,
   "id": "0c1397a5",
   "metadata": {},
   "outputs": [],
   "source": [
    "from keras_segmentation.models.unet import vgg_unet\n",
    "model1 = vgg_unet(n_classes=50 ,  input_height=320, input_width=640  )\n",
    "model1.load_weights('divam_ss_base_weights_ep20.h5')"
   ]
  },
  {
   "cell_type": "code",
   "execution_count": null,
   "id": "ba563eef",
   "metadata": {},
   "outputs": [],
   "source": [
    "model.save_weights('vgg_unet_ep1_weights.h5')"
   ]
  },
  {
   "cell_type": "markdown",
   "id": "6ca0e413",
   "metadata": {},
   "source": [
    "### Loading a pruned model"
   ]
  },
  {
   "cell_type": "code",
   "execution_count": 47,
   "id": "9958131a",
   "metadata": {},
   "outputs": [
    {
     "name": "stdout",
     "output_type": "stream",
     "text": [
      "WARNING:tensorflow:No training configuration found in the save file, so the model was *not* compiled. Compile it manually.\n"
     ]
    }
   ],
   "source": [
    "from tensorflow.keras.models import load_model\n",
    "\n",
    "#model = vgg_unet(n_classes=50 ,  input_height=320, input_width=640  )\n",
    "model_p = load_model('./custom_model_files/striped_divam_ss_pruned_ep_model_20_new.h5')"
   ]
  },
  {
   "cell_type": "code",
   "execution_count": null,
   "id": "9eed7eeb",
   "metadata": {},
   "outputs": [],
   "source": [
    "model1 = vgg_unet(n_classes=50 ,  input_height=320, input_width=640  )"
   ]
  },
  {
   "cell_type": "code",
   "execution_count": null,
   "id": "639d9fa2",
   "metadata": {},
   "outputs": [],
   "source": [
    "model7.summary()"
   ]
  },
  {
   "cell_type": "code",
   "execution_count": null,
   "id": "80b00353",
   "metadata": {},
   "outputs": [],
   "source": [
    "if isinstance(model, six.string_types):\n",
    "    # create the model from the name\n",
    "    assert (n_classes is not None), \"Please provide the n_classes\"\n",
    "    if (input_height is not None) and (input_width is not None):\n",
    "        model = model_from_name[model](\n",
    "            n_classes, input_height=input_height, input_width=input_width)\n",
    "    else:\n",
    "        model = model_from_name[model](n_classes)"
   ]
  },
  {
   "cell_type": "code",
   "execution_count": null,
   "id": "8d3a7b1d",
   "metadata": {},
   "outputs": [],
   "source": [
    "#model = model.load_weights('divam_ss_base.03.h5')"
   ]
  },
  {
   "cell_type": "code",
   "execution_count": null,
   "id": "7b20bc0f",
   "metadata": {},
   "outputs": [],
   "source": [
    "n_classes = model.n_classes\n",
    "input_height = model.input_height\n",
    "input_width = model.input_width\n",
    "output_height = model.output_height\n",
    "output_width = model.output_width"
   ]
  },
  {
   "cell_type": "code",
   "execution_count": 3,
   "id": "46a2cbb6",
   "metadata": {},
   "outputs": [],
   "source": [
    "n_classes = 50\n",
    "input_height = 320\n",
    "input_width = 640\n",
    "output_height = 160\n",
    "output_width = 320"
   ]
  },
  {
   "cell_type": "code",
   "execution_count": null,
   "id": "effe6d60",
   "metadata": {},
   "outputs": [],
   "source": [
    "loss_k = 'categorical_crossentropy'\n",
    "model.compile(loss=loss_k,\n",
    "                      optimizer='adam',\n",
    "                      metrics=['accuracy'])"
   ]
  },
  {
   "cell_type": "markdown",
   "id": "0da4a32f",
   "metadata": {},
   "source": [
    "### Execute this if you are planning to predict or train the network"
   ]
  },
  {
   "cell_type": "code",
   "execution_count": 4,
   "id": "f5cd6d11",
   "metadata": {},
   "outputs": [],
   "source": [
    "train_images=\"dataset1/images_prepped_train/\"\n",
    "train_annotations=\"dataset1/annotations_prepped_train/\"\n",
    "#input_height=None\n",
    "#input_width=None\n",
    "#n_classes=None\n",
    "verify_dataset=True\n",
    "checkpoints_path=None\n",
    "epochs=20\n",
    "batch_size=2\n",
    "validate=False\n",
    "val_images=None\n",
    "val_annotations=None\n",
    "val_batch_size=2\n",
    "auto_resume_checkpoint=False\n",
    "load_weights=None\n",
    "steps_per_epoch=512\n",
    "val_steps_per_epoch=512\n",
    "gen_use_multiprocessing=False\n",
    "ignore_zero_class=False\n",
    "optimizer_name='adam'\n",
    "do_augment=False\n",
    "augmentation_name=\"aug_all\",\n",
    "callbacks=None\n",
    "custom_augmentation=None\n",
    "other_inputs_paths=None\n",
    "preprocessing=None\n",
    "read_image_type=1"
   ]
  },
  {
   "cell_type": "code",
   "execution_count": 5,
   "id": "196fca73",
   "metadata": {},
   "outputs": [],
   "source": [
    "train_gen = image_segmentation_generator(\n",
    "        train_images, train_annotations,  batch_size,  n_classes,\n",
    "        input_height, input_width, output_height, output_width,\n",
    "        do_augment=do_augment, augmentation_name=augmentation_name,\n",
    "        custom_augmentation=custom_augmentation, other_inputs_paths=other_inputs_paths,\n",
    "        preprocessing=preprocessing, read_image_type=read_image_type)"
   ]
  },
  {
   "cell_type": "code",
   "execution_count": null,
   "id": "18e45c05",
   "metadata": {},
   "outputs": [],
   "source": [
    "import tensorflow \n",
    "\n",
    "checkpoints_path = 'divam_ss_base_weights'\n",
    "default_callback = ModelCheckpoint(\n",
    "            filepath=checkpoints_path + \".{epoch:02d}.h5\",\n",
    "            save_best_only=True,\n",
    "            save_weights_only=True,\n",
    "            verbose=True,\n",
    "            monitor='val_loss'\n",
    "        )\n",
    "tbCallBack = tensorflow.keras.callbacks.TensorBoard(log_dir='./Graph', histogram_freq=0, write_graph=True, write_images=True)\n"
   ]
  },
  {
   "cell_type": "code",
   "execution_count": null,
   "id": "b6d4d783",
   "metadata": {},
   "outputs": [],
   "source": [
    "import os\n",
    "\n",
    "logs_base_dir = \"./Graph\"\n",
    "os.makedirs(logs_base_dir, exist_ok=True)\n",
    "#%tensorboard --logdir {logs_base_dir}"
   ]
  },
  {
   "cell_type": "code",
   "execution_count": null,
   "id": "250735f9",
   "metadata": {},
   "outputs": [],
   "source": [
    "initial_epoch=0\n",
    "model.fit(train_gen, steps_per_epoch=steps_per_epoch,\n",
    "                  epochs=epochs, callbacks=[default_callback,tbCallBack], initial_epoch=initial_epoch)"
   ]
  },
  {
   "cell_type": "code",
   "execution_count": null,
   "id": "b2f66232",
   "metadata": {},
   "outputs": [],
   "source": [
    "model.save_weights('divam_ss_base_weights_ep20.h5')"
   ]
  },
  {
   "cell_type": "code",
   "execution_count": null,
   "id": "e2c6f5e9",
   "metadata": {},
   "outputs": [],
   "source": [
    "tensorboard --logdir path_to_c/Graph "
   ]
  },
  {
   "cell_type": "code",
   "execution_count": null,
   "id": "2809d57c",
   "metadata": {},
   "outputs": [],
   "source": [
    "out = model.predict_segmentation(\n",
    "    inp=\"dataset1/images_prepped_test/0016E5_07965.png\",\n",
    "    out_fname=\"/tmp/out.png\"\n",
    ")"
   ]
  },
  {
   "cell_type": "code",
   "execution_count": null,
   "id": "3321ae48",
   "metadata": {},
   "outputs": [],
   "source": [
    "model.save('dg_base_ep20.h5')"
   ]
  },
  {
   "cell_type": "code",
   "execution_count": null,
   "id": "bfef2b9b",
   "metadata": {},
   "outputs": [],
   "source": [
    "import matplotlib.pyplot as plt\n",
    "plt.imshow(out)"
   ]
  },
  {
   "cell_type": "code",
   "execution_count": null,
   "id": "064bab62",
   "metadata": {},
   "outputs": [],
   "source": [
    "model2=model.load_model('dg_base_ep1.h5')"
   ]
  },
  {
   "cell_type": "code",
   "execution_count": null,
   "id": "af352c3c",
   "metadata": {},
   "outputs": [],
   "source": [
    "model2.summary()"
   ]
  },
  {
   "cell_type": "code",
   "execution_count": 15,
   "id": "ec952cd3",
   "metadata": {},
   "outputs": [],
   "source": [
    "def get_image_array(image_input,\n",
    "                    width, height,\n",
    "                    imgNorm=\"sub_mean\", ordering='channels_first', read_image_type=1):\n",
    "    \"\"\" Load image array from input \"\"\"\n",
    "\n",
    "    if type(image_input) is np.ndarray:\n",
    "        # It is already an array, use it as it is\n",
    "        img = image_input\n",
    "    elif isinstance(image_input, six.string_types):\n",
    "        if not os.path.isfile(image_input):\n",
    "            raise DataLoaderError(\"get_image_array: path {0} doesn't exist\"\n",
    "                                  .format(image_input))\n",
    "        img = cv2.imread(image_input, read_image_type)\n",
    "    else:\n",
    "        raise DataLoaderError(\"get_image_array: Can't process input type {0}\"\n",
    "                              .format(str(type(image_input))))\n",
    "\n",
    "    if imgNorm == \"sub_and_divide\":\n",
    "        img = np.float32(cv2.resize(img, (width, height))) / 127.5 - 1\n",
    "    elif imgNorm == \"sub_mean\":\n",
    "        img = cv2.resize(img, (width, height))\n",
    "        img = img.astype(np.float32)\n",
    "        img = np.atleast_3d(img)\n",
    "\n",
    "        means = [103.939, 116.779, 123.68]\n",
    "\n",
    "        for i in range(min(img.shape[2], len(means))):\n",
    "            img[:, :, i] -= means[i]\n",
    "\n",
    "        img = img[:, :, ::-1]\n",
    "    elif imgNorm == \"divide\":\n",
    "        img = cv2.resize(img, (width, height))\n",
    "        img = img.astype(np.float32)\n",
    "        img = img/255.0\n",
    "\n",
    "    if ordering == 'channels_first':\n",
    "        img = np.rollaxis(img, 2, 0)\n",
    "    return img"
   ]
  },
  {
   "cell_type": "code",
   "execution_count": 16,
   "id": "8de160ff",
   "metadata": {},
   "outputs": [],
   "source": [
    "import numpy as np\n",
    "\n",
    "IMAGE_ORDERING = \"channels_last\"\n",
    "x = get_image_array(inp, input_width, input_height,\n",
    "                    ordering=IMAGE_ORDERING)"
   ]
  },
  {
   "cell_type": "code",
   "execution_count": null,
   "id": "1596b75e",
   "metadata": {},
   "outputs": [],
   "source": [
    "pr = model7_p.predict(np.array([x]))[0]\n",
    "pr = pr.reshape((output_height,  output_width, n_classes)).argmax(axis=2)"
   ]
  },
  {
   "cell_type": "code",
   "execution_count": null,
   "id": "6616a597",
   "metadata": {},
   "outputs": [],
   "source": [
    "pr"
   ]
  },
  {
   "cell_type": "code",
   "execution_count": null,
   "id": "c51e8053",
   "metadata": {},
   "outputs": [],
   "source": [
    "import random\n",
    "\n",
    "class_colors = [(random.randint(0, 255), random.randint(\n",
    "    0, 255), random.randint(0, 255)) for _ in range(5000)]\n",
    "\n",
    "def visualize_segmentation(seg_arr, inp_img=None, n_classes=None,\n",
    "                           colors=class_colors, class_names=None,\n",
    "                           overlay_img=False, show_legends=False,\n",
    "                           prediction_width=None, prediction_height=None):\n",
    "\n",
    "    if n_classes is None:\n",
    "        n_classes = np.max(seg_arr)\n",
    "\n",
    "    seg_img = get_colored_segmentation_image(seg_arr, n_classes, colors=colors)\n",
    "\n",
    "    if inp_img is not None:\n",
    "        original_h = inp_img.shape[0]\n",
    "        original_w = inp_img.shape[1]\n",
    "        seg_img = cv2.resize(seg_img, (original_w, original_h), interpolation=cv2.INTER_NEAREST)\n",
    "\n",
    "    if (prediction_height is not None) and (prediction_width is not None):\n",
    "        seg_img = cv2.resize(seg_img, (prediction_width, prediction_height), interpolation=cv2.INTER_NEAREST)\n",
    "        if inp_img is not None:\n",
    "            inp_img = cv2.resize(inp_img,\n",
    "                                 (prediction_width, prediction_height))\n",
    "\n",
    "    if overlay_img:\n",
    "        assert inp_img is not None\n",
    "        seg_img = overlay_seg_image(inp_img, seg_img)\n",
    "\n",
    "    if show_legends:\n",
    "        assert class_names is not None\n",
    "        legend_img = get_legends(class_names, colors=colors)\n",
    "\n",
    "        seg_img = concat_lenends(seg_img, legend_img)\n",
    "\n",
    "    return seg_img\n",
    "\n",
    "def get_colored_segmentation_image(seg_arr, n_classes, colors=class_colors):\n",
    "    output_height = seg_arr.shape[0]\n",
    "    output_width = seg_arr.shape[1]\n",
    "\n",
    "    seg_img = np.zeros((output_height, output_width, 3))\n",
    "\n",
    "    for c in range(n_classes):\n",
    "        seg_arr_c = seg_arr[:, :] == c\n",
    "        seg_img[:, :, 0] += ((seg_arr_c)*(colors[c][0])).astype('uint8')\n",
    "        seg_img[:, :, 1] += ((seg_arr_c)*(colors[c][1])).astype('uint8')\n",
    "        seg_img[:, :, 2] += ((seg_arr_c)*(colors[c][2])).astype('uint8')\n",
    "\n",
    "    return seg_img"
   ]
  },
  {
   "cell_type": "code",
   "execution_count": null,
   "id": "01f30607",
   "metadata": {},
   "outputs": [],
   "source": [
    "overlay_img=False\n",
    "show_legends=False\n",
    "class_names=None\n",
    "prediction_width=None\n",
    "prediction_height=None\n",
    "\n",
    "seg_img = visualize_segmentation(pr, inp, n_classes=n_classes,\n",
    "                                 colors=class_colors, overlay_img=overlay_img,\n",
    "                                 show_legends=show_legends,\n",
    "                                 class_names=class_names,\n",
    "                                 prediction_width=prediction_width,\n",
    "                                 prediction_height=prediction_height)"
   ]
  },
  {
   "cell_type": "code",
   "execution_count": null,
   "id": "7a3a3ee6",
   "metadata": {},
   "outputs": [],
   "source": [
    "while(True):\n",
    "    cv2.imshow('im', seg_img)\n",
    "    if cv2.waitKey(1) & 0xFF == ord('q'):\n",
    "        cv2.destroyAllWindows()\n",
    "        break"
   ]
  },
  {
   "cell_type": "code",
   "execution_count": null,
   "id": "60084169",
   "metadata": {},
   "outputs": [],
   "source": [
    "import matplotlib.pyplot as plt\n",
    "plt.imshow(pr)"
   ]
  },
  {
   "cell_type": "markdown",
   "id": "c7b9c11b",
   "metadata": {},
   "source": [
    "### Use the below if you are loading the model"
   ]
  },
  {
   "cell_type": "code",
   "execution_count": null,
   "id": "2b7a6960",
   "metadata": {},
   "outputs": [],
   "source": [
    "from keras_segmentation.models.unet import vgg_unet\n",
    "from tensorflow.keras.models import load_model\n",
    "\n",
    "#model = vgg_unet(n_classes=50 ,  input_height=320, input_width=640  )\n",
    "model7_p=load_model('./striped_divam_ss_pruned_ep_20.h5')\n",
    "#model_base=load_model('./dg_base_ep1.h5')\n",
    "print('done')\n"
   ]
  },
  {
   "cell_type": "code",
   "execution_count": null,
   "id": "997cdd74",
   "metadata": {},
   "outputs": [],
   "source": [
    "model_base.summary()"
   ]
  },
  {
   "cell_type": "code",
   "execution_count": null,
   "id": "e57be9cf",
   "metadata": {},
   "outputs": [],
   "source": [
    "import cv2\n",
    "inp = cv2.imread(\"dataset1/images_prepped_test/0016E5_07965.png\",1)"
   ]
  },
  {
   "cell_type": "markdown",
   "id": "63f6b55d",
   "metadata": {},
   "source": [
    "### Pruning the model"
   ]
  },
  {
   "cell_type": "code",
   "execution_count": 6,
   "id": "73a89b20",
   "metadata": {},
   "outputs": [],
   "source": [
    "import tensorflow_model_optimization as tfmot \n",
    "from tensorflow_model_optimization.python.core.sparsity.keras import pruning_schedule as pruning_sched\n",
    "prune_low_magnitude = tfmot.sparsity.keras.prune_low_magnitude\n",
    "import numpy as np"
   ]
  },
  {
   "cell_type": "code",
   "execution_count": 7,
   "id": "b97ce848",
   "metadata": {},
   "outputs": [
    {
     "name": "stderr",
     "output_type": "stream",
     "text": [
      "/home/mohan/virtualenv/divamgupta_tf2/lib/python3.6/site-packages/keras/engine/base_layer.py:2223: UserWarning: `layer.add_variable` is deprecated and will be removed in a future version. Please use `layer.add_weight` method instead.\n",
      "  warnings.warn('`layer.add_variable` is deprecated and '\n"
     ]
    }
   ],
   "source": [
    "num_images = 367\n",
    "end_step = np.ceil(num_images / batch_size).astype(np.int32) * epochs\n",
    "\n",
    "pruning_params = {\n",
    "      'pruning_schedule': tfmot.sparsity.keras.PolynomialDecay(initial_sparsity=0.50,\n",
    "                                                               final_sparsity=0.80,\n",
    "                                                               begin_step=0,\n",
    "                                                               end_step=end_step)\n",
    "}\n",
    "\n",
    "#'''\n",
    "\n",
    "model_for_pruning = tfmot.sparsity.keras.prune_low_magnitude(model1, **pruning_params)"
   ]
  },
  {
   "cell_type": "code",
   "execution_count": 8,
   "id": "6250de17",
   "metadata": {},
   "outputs": [],
   "source": [
    "p_checkpoints_path = 'divam_ss_pruned_weights_n'\n",
    "p_checkpoint = ModelCheckpoint(filepath=p_checkpoints_path + \"{epoch:02d}.h5\",save_weights_only=True,save_best_only=True,\n",
    "                               monitor='val_loss',\n",
    "                              verbose=True)"
   ]
  },
  {
   "cell_type": "code",
   "execution_count": 9,
   "id": "23528d5d",
   "metadata": {},
   "outputs": [],
   "source": [
    "log_dir = './pruning_logs'\n",
    "p_callbacks = [\n",
    "    tfmot.sparsity.keras.UpdatePruningStep(),\n",
    "    # Log sparsity and other metrics in Tensorboard.\n",
    "    tfmot.sparsity.keras.PruningSummaries(log_dir=log_dir),p_checkpoint]"
   ]
  },
  {
   "cell_type": "code",
   "execution_count": null,
   "id": "0a439890",
   "metadata": {},
   "outputs": [],
   "source": [
    "# Better Model callbacks\n",
    "log_dir = '.\\logs'\n",
    "callbacks = [\n",
    "  tfmot.sparsity.keras.UpdatePruningStep(),\n",
    "  tensorflow.keras.callbacks.TensorBoard(log_dir=log_dir, profile_batch = 100000000, histogram_freq=0, batch_size=32, write_graph=True, write_grads=False, write_images=False, embeddings_freq=0, embeddings_layer_names=None, embeddings_metadata=None, embeddings_data=None, update_freq='epoch'),\n",
    "  tfmot.sparsity.keras.PruningSummaries(\n",
    "    log_dir, update_freq='epoch'\n",
    "  )\n",
    "]"
   ]
  },
  {
   "cell_type": "code",
   "execution_count": 10,
   "id": "133d2697",
   "metadata": {},
   "outputs": [],
   "source": [
    "loss_k = 'categorical_crossentropy'\n",
    "\n",
    "model_for_pruning.compile(loss=loss_k,\n",
    "                      optimizer='adam',\n",
    "                      metrics=['accuracy'])"
   ]
  },
  {
   "cell_type": "code",
   "execution_count": 11,
   "id": "69fa0041",
   "metadata": {},
   "outputs": [
    {
     "name": "stdout",
     "output_type": "stream",
     "text": [
      "Epoch 1/20\n",
      "  6/512 [..............................] - ETA: 1:41 - loss: 0.0869 - accuracy: 0.9675WARNING:tensorflow:Callback method `on_train_batch_begin` is slow compared to the batch time (batch time: 0.0353s vs `on_train_batch_begin` time: 0.0384s). Check your callbacks.\n",
      "WARNING:tensorflow:Callback method `on_train_batch_end` is slow compared to the batch time (batch time: 0.0353s vs `on_train_batch_end` time: 0.0995s). Check your callbacks.\n",
      "512/512 [==============================] - 48s 80ms/step - loss: 0.1540 - accuracy: 0.9496\n",
      "WARNING:tensorflow:Can save best model only with val_loss available, skipping.\n",
      "Epoch 2/20\n",
      "512/512 [==============================] - 41s 80ms/step - loss: 0.1229 - accuracy: 0.9567\n",
      "WARNING:tensorflow:Can save best model only with val_loss available, skipping.\n",
      "Epoch 3/20\n",
      "512/512 [==============================] - 42s 81ms/step - loss: 0.1186 - accuracy: 0.9575\n",
      "WARNING:tensorflow:Can save best model only with val_loss available, skipping.\n",
      "Epoch 4/20\n",
      "512/512 [==============================] - 42s 83ms/step - loss: 0.1279 - accuracy: 0.9546\n",
      "WARNING:tensorflow:Can save best model only with val_loss available, skipping.\n",
      "Epoch 5/20\n",
      "512/512 [==============================] - 43s 84ms/step - loss: 0.1097 - accuracy: 0.9603\n",
      "WARNING:tensorflow:Can save best model only with val_loss available, skipping.\n",
      "Epoch 6/20\n",
      "512/512 [==============================] - 43s 84ms/step - loss: 0.0918 - accuracy: 0.9662\n",
      "WARNING:tensorflow:Can save best model only with val_loss available, skipping.\n",
      "Epoch 7/20\n",
      "512/512 [==============================] - 43s 84ms/step - loss: 0.0809 - accuracy: 0.9700\n",
      "WARNING:tensorflow:Can save best model only with val_loss available, skipping.\n",
      "Epoch 8/20\n",
      "512/512 [==============================] - 42s 83ms/step - loss: 0.0780 - accuracy: 0.9709\n",
      "WARNING:tensorflow:Can save best model only with val_loss available, skipping.\n",
      "Epoch 9/20\n",
      "512/512 [==============================] - 42s 83ms/step - loss: 0.0751 - accuracy: 0.9719\n",
      "WARNING:tensorflow:Can save best model only with val_loss available, skipping.\n",
      "Epoch 10/20\n",
      "512/512 [==============================] - 42s 83ms/step - loss: 0.0714 - accuracy: 0.9732\n",
      "WARNING:tensorflow:Can save best model only with val_loss available, skipping.\n",
      "Epoch 11/20\n",
      "512/512 [==============================] - 42s 83ms/step - loss: 0.0692 - accuracy: 0.9739\n",
      "WARNING:tensorflow:Can save best model only with val_loss available, skipping.\n",
      "Epoch 12/20\n",
      "512/512 [==============================] - 42s 83ms/step - loss: 0.0669 - accuracy: 0.9747\n",
      "WARNING:tensorflow:Can save best model only with val_loss available, skipping.\n",
      "Epoch 13/20\n",
      "512/512 [==============================] - 42s 82ms/step - loss: 0.0649 - accuracy: 0.9754\n",
      "WARNING:tensorflow:Can save best model only with val_loss available, skipping.\n",
      "Epoch 14/20\n",
      "512/512 [==============================] - 42s 82ms/step - loss: 0.0631 - accuracy: 0.9761\n",
      "WARNING:tensorflow:Can save best model only with val_loss available, skipping.\n",
      "Epoch 15/20\n",
      "512/512 [==============================] - 42s 82ms/step - loss: 0.0618 - accuracy: 0.9765\n",
      "WARNING:tensorflow:Can save best model only with val_loss available, skipping.\n",
      "Epoch 16/20\n",
      "512/512 [==============================] - 42s 82ms/step - loss: 0.0620 - accuracy: 0.9764\n",
      "WARNING:tensorflow:Can save best model only with val_loss available, skipping.\n",
      "Epoch 17/20\n",
      "512/512 [==============================] - 42s 83ms/step - loss: 0.0620 - accuracy: 0.9764\n",
      "WARNING:tensorflow:Can save best model only with val_loss available, skipping.\n",
      "Epoch 18/20\n",
      "512/512 [==============================] - 42s 83ms/step - loss: 0.0610 - accuracy: 0.9767\n",
      "WARNING:tensorflow:Can save best model only with val_loss available, skipping.\n",
      "Epoch 19/20\n",
      "512/512 [==============================] - 42s 83ms/step - loss: 0.0603 - accuracy: 0.9770\n",
      "WARNING:tensorflow:Can save best model only with val_loss available, skipping.\n",
      "Epoch 20/20\n",
      "512/512 [==============================] - 42s 83ms/step - loss: 0.0583 - accuracy: 0.9777\n",
      "WARNING:tensorflow:Can save best model only with val_loss available, skipping.\n"
     ]
    },
    {
     "data": {
      "text/plain": [
       "<keras.callbacks.History at 0x7fab40439748>"
      ]
     },
     "execution_count": 11,
     "metadata": {},
     "output_type": "execute_result"
    }
   ],
   "source": [
    "initial_epoch=0\n",
    "model_for_pruning.fit(train_gen, steps_per_epoch=steps_per_epoch,\n",
    "                  epochs=epochs, callbacks=p_callbacks, initial_epoch=initial_epoch)"
   ]
  },
  {
   "cell_type": "code",
   "execution_count": 17,
   "id": "96d889a0",
   "metadata": {},
   "outputs": [],
   "source": [
    "pr = model_for_pruning.predict(np.array([x]))[0]\n",
    "pr_p1 = pr.reshape((output_height,  output_width, n_classes)).argmax(axis=2)"
   ]
  },
  {
   "cell_type": "markdown",
   "id": "fec8c0bf",
   "metadata": {},
   "source": [
    "### Strip pruning to remove the pruning layer names to the default"
   ]
  },
  {
   "cell_type": "code",
   "execution_count": 20,
   "id": "989154f7",
   "metadata": {},
   "outputs": [
    {
     "name": "stdout",
     "output_type": "stream",
     "text": [
      "WARNING:tensorflow:Compiled the loaded model, but the compiled metrics have yet to be built. `model.compile_metrics` will be empty until you train or evaluate the model.\n"
     ]
    }
   ],
   "source": [
    "model_for_export = tfmot.sparsity.keras.strip_pruning(model_for_pruning)\n",
    "model_for_export.save('striped_divam_ss_pruned_ep_model_20_new.h5', include_optimizer=True)"
   ]
  },
  {
   "cell_type": "code",
   "execution_count": 21,
   "id": "fee72f96",
   "metadata": {},
   "outputs": [],
   "source": [
    "model_for_pruning.save_weights('divam_ss_pruned_ep_weights_20_new.h5')"
   ]
  },
  {
   "cell_type": "markdown",
   "id": "4b7d9359",
   "metadata": {},
   "source": [
    "### End to end inference from a loaded model"
   ]
  },
  {
   "cell_type": "code",
   "execution_count": null,
   "id": "c3d76e10",
   "metadata": {},
   "outputs": [],
   "source": [
    "\n",
    "from keras_segmentation.models.unet import vgg_unet\n",
    "from tensorflow.keras.models import load_model\n",
    "\n",
    "#model9 = vgg_unet(n_classes=50 ,  input_height=320, input_width=640  )\n",
    "#model7=load_model('./striped_divam_ss_pruned_ep_20.h5')\n",
    "model9=load_model('./dg_base_ep1.h5')\n",
    "print('done')\n"
   ]
  },
  {
   "cell_type": "code",
   "execution_count": 12,
   "id": "6717ba22",
   "metadata": {},
   "outputs": [],
   "source": [
    "import cv2\n",
    "inp = cv2.imread(\"dataset1/images_prepped_test/0016E5_07965.png\",1)"
   ]
  },
  {
   "cell_type": "code",
   "execution_count": null,
   "id": "78453ba3",
   "metadata": {},
   "outputs": [],
   "source": [
    "n_classes = 50\n",
    "input_height = 320\n",
    "input_width = 640\n",
    "output_height = 160\n",
    "output_width = 320"
   ]
  },
  {
   "cell_type": "code",
   "execution_count": 42,
   "id": "ef22174a",
   "metadata": {},
   "outputs": [],
   "source": [
    "def get_image_array(image_input,\n",
    "                    width, height,\n",
    "                    imgNorm=\"sub_mean\", ordering='channels_first', read_image_type=1):\n",
    "    \"\"\" Load image array from input \"\"\"\n",
    "\n",
    "    if type(image_input) is np.ndarray:\n",
    "        # It is already an array, use it as it is\n",
    "        img = image_input\n",
    "    elif isinstance(image_input, six.string_types):\n",
    "        if not os.path.isfile(image_input):\n",
    "            raise DataLoaderError(\"get_image_array: path {0} doesn't exist\"\n",
    "                                  .format(image_input))\n",
    "        img = cv2.imread(image_input, read_image_type)\n",
    "    else:\n",
    "        raise DataLoaderError(\"get_image_array: Can't process input type {0}\"\n",
    "                              .format(str(type(image_input))))\n",
    "\n",
    "    if imgNorm == \"sub_and_divide\":\n",
    "        img = np.float32(cv2.resize(img, (width, height))) / 127.5 - 1\n",
    "    elif imgNorm == \"sub_mean\":\n",
    "        img = cv2.resize(img, (width, height))\n",
    "        img = img.astype(np.float32)\n",
    "        img = np.atleast_3d(img)\n",
    "\n",
    "        means = [103.939, 116.779, 123.68]\n",
    "\n",
    "        for i in range(min(img.shape[2], len(means))):\n",
    "            img[:, :, i] -= means[i]\n",
    "\n",
    "        img = img[:, :, ::-1]\n",
    "    elif imgNorm == \"divide\":\n",
    "        img = cv2.resize(img, (width, height))\n",
    "        img = img.astype(np.float32)\n",
    "        img = img/255.0\n",
    "\n",
    "    if ordering == 'channels_first':\n",
    "        img = np.rollaxis(img, 2, 0)\n",
    "    return img"
   ]
  },
  {
   "cell_type": "code",
   "execution_count": null,
   "id": "85c49df8",
   "metadata": {},
   "outputs": [],
   "source": [
    "import numpy as np\n",
    "\n",
    "IMAGE_ORDERING = \"channels_last\"\n",
    "x = get_image_array(inp, input_width, input_height,\n",
    "                    ordering=IMAGE_ORDERING)"
   ]
  },
  {
   "cell_type": "code",
   "execution_count": null,
   "id": "9ec052f6",
   "metadata": {},
   "outputs": [],
   "source": [
    "pr = model_for_pruning.predict(np.array([x]))[0]\n",
    "pr_p = pr.reshape((output_height,  output_width, n_classes)).argmax(axis=2)"
   ]
  },
  {
   "cell_type": "code",
   "execution_count": null,
   "id": "eb2552a5",
   "metadata": {},
   "outputs": [],
   "source": [
    "import random\n",
    "\n",
    "class_colors = [(random.randint(0, 255), random.randint(\n",
    "    0, 255), random.randint(0, 255)) for _ in range(5000)]\n",
    "\n",
    "def visualize_segmentation(seg_arr, inp_img=None, n_classes=None,\n",
    "                           colors=class_colors, class_names=None,\n",
    "                           overlay_img=False, show_legends=False,\n",
    "                           prediction_width=None, prediction_height=None):\n",
    "\n",
    "    if n_classes is None:\n",
    "        n_classes = np.max(seg_arr)\n",
    "\n",
    "    seg_img = get_colored_segmentation_image(seg_arr, n_classes, colors=colors)\n",
    "\n",
    "    if inp_img is not None:\n",
    "        original_h = inp_img.shape[0]\n",
    "        original_w = inp_img.shape[1]\n",
    "        seg_img = cv2.resize(seg_img, (original_w, original_h), interpolation=cv2.INTER_NEAREST)\n",
    "\n",
    "    if (prediction_height is not None) and (prediction_width is not None):\n",
    "        seg_img = cv2.resize(seg_img, (prediction_width, prediction_height), interpolation=cv2.INTER_NEAREST)\n",
    "        if inp_img is not None:\n",
    "            inp_img = cv2.resize(inp_img,\n",
    "                                 (prediction_width, prediction_height))\n",
    "\n",
    "    if overlay_img:\n",
    "        assert inp_img is not None\n",
    "        seg_img = overlay_seg_image(inp_img, seg_img)\n",
    "\n",
    "    if show_legends:\n",
    "        assert class_names is not None\n",
    "        legend_img = get_legends(class_names, colors=colors)\n",
    "\n",
    "        seg_img = concat_lenends(seg_img, legend_img)\n",
    "\n",
    "    return seg_img\n",
    "\n",
    "def get_colored_segmentation_image(seg_arr, n_classes, colors=class_colors):\n",
    "    output_height = seg_arr.shape[0]\n",
    "    output_width = seg_arr.shape[1]\n",
    "\n",
    "    seg_img = np.zeros((output_height, output_width, 3))\n",
    "\n",
    "    for c in range(n_classes):\n",
    "        seg_arr_c = seg_arr[:, :] == c\n",
    "        seg_img[:, :, 0] += ((seg_arr_c)*(colors[c][0])).astype('uint8')\n",
    "        seg_img[:, :, 1] += ((seg_arr_c)*(colors[c][1])).astype('uint8')\n",
    "        seg_img[:, :, 2] += ((seg_arr_c)*(colors[c][2])).astype('uint8')\n",
    "\n",
    "    return seg_img"
   ]
  },
  {
   "cell_type": "code",
   "execution_count": null,
   "id": "73fa29d6",
   "metadata": {},
   "outputs": [],
   "source": [
    "overlay_img=False\n",
    "show_legends=False\n",
    "class_names=None\n",
    "prediction_width=None\n",
    "prediction_height=None\n",
    "\n",
    "seg_img = visualize_segmentation(pr, inp, n_classes=n_classes,\n",
    "                                 colors=class_colors, overlay_img=overlay_img,\n",
    "                                 show_legends=show_legends,\n",
    "                                 class_names=class_names,\n",
    "                                 prediction_width=prediction_width,\n",
    "                                 prediction_height=prediction_height)"
   ]
  },
  {
   "cell_type": "code",
   "execution_count": null,
   "id": "70df0b76",
   "metadata": {},
   "outputs": [],
   "source": [
    "print(seg_img)"
   ]
  },
  {
   "cell_type": "code",
   "execution_count": 18,
   "id": "a6e87a52",
   "metadata": {},
   "outputs": [
    {
     "data": {
      "text/plain": [
       "<matplotlib.image.AxesImage at 0x7faa84b2f2e8>"
      ]
     },
     "execution_count": 18,
     "metadata": {},
     "output_type": "execute_result"
    },
    {
     "data": {
      "image/png": "[encoded data removed]",
      "text/plain": [
       "<Figure size 432x288 with 1 Axes>"
      ]
     },
     "metadata": {
      "needs_background": "light"
     },
     "output_type": "display_data"
    }
   ],
   "source": [
    "import matplotlib.pyplot as plt\n",
    "plt.imshow(pr_p1)"
   ]
  },
  {
   "cell_type": "code",
   "execution_count": 55,
   "id": "e1e3181b",
   "metadata": {},
   "outputs": [],
   "source": [
    "from tqdm import tqdm\n",
    "import random\n",
    "class_colors = [(random.randint(0, 255), random.randint(\n",
    "    0, 255), random.randint(0, 255)) for _ in range(5000)]\n",
    "\n",
    "\n",
    "def evaluate(model=None, inp_images=None, annotations=None,\n",
    "             inp_images_dir=None, annotations_dir=None, checkpoints_path=None, read_image_type=1):\n",
    "\n",
    "    if model is None:\n",
    "        assert (checkpoints_path is not None),\\\n",
    "                \"Please provide the model or the checkpoints_path\"\n",
    "        model = model_from_checkpoint_path(checkpoints_path)\n",
    "\n",
    "    if inp_images is None:\n",
    "        assert (inp_images_dir is not None),\\\n",
    "                \"Please provide inp_images or inp_images_dir\"\n",
    "        assert (annotations_dir is not None),\\\n",
    "            \"Please provide inp_images or inp_images_dir\"\n",
    "\n",
    "        paths = get_pairs_from_paths(inp_images_dir, annotations_dir)\n",
    "        paths = list(zip(*paths))\n",
    "        inp_images = list(paths[0])\n",
    "        annotations = list(paths[1])\n",
    "\n",
    "    assert type(inp_images) is list\n",
    "    assert type(annotations) is list\n",
    "\n",
    "    tp = np.zeros(50)\n",
    "    fp = np.zeros(50)\n",
    "    fn = np.zeros(50)\n",
    "    n_pixels = np.zeros(50)\n",
    "\n",
    "    for inp, ann in tqdm(zip(inp_images, annotations)):\n",
    "        pr = predict(model, inp, read_image_type=read_image_type)\n",
    "        gt = get_segmentation_array(ann, model.n_classes,\n",
    "                                    model.output_width, model.output_height,\n",
    "                                    no_reshape=True, read_image_type=read_image_type)\n",
    "        gt = gt.argmax(-1)\n",
    "        pr = pr.flatten()\n",
    "        gt = gt.flatten()\n",
    "\n",
    "        for cl_i in range(model.n_classes):\n",
    "\n",
    "            tp[cl_i] += np.sum((pr == cl_i) * (gt == cl_i))\n",
    "            fp[cl_i] += np.sum((pr == cl_i) * ((gt != cl_i)))\n",
    "            fn[cl_i] += np.sum((pr != cl_i) * ((gt == cl_i)))\n",
    "            n_pixels[cl_i] += np.sum(gt == cl_i)\n",
    "\n",
    "    cl_wise_score = tp / (tp + fp + fn + 0.000000000001)\n",
    "    n_pixels_norm = n_pixels / np.sum(n_pixels)\n",
    "    frequency_weighted_IU = np.sum(cl_wise_score*n_pixels_norm)\n",
    "    mean_IU = np.mean(cl_wise_score)\n",
    "\n",
    "    return {\n",
    "        \"frequency_weighted_IU\": frequency_weighted_IU,\n",
    "        \"mean_IU\": mean_IU,\n",
    "        \"class_wise_IU\": cl_wise_score\n",
    "    }\n",
    "\n",
    "\n",
    "def predict(model=None, inp=None, out_fname=None,\n",
    "            checkpoints_path=None, overlay_img=False,\n",
    "            class_names=None, show_legends=False, colors=class_colors,\n",
    "            prediction_width=None, prediction_height=None,\n",
    "            read_image_type=1):\n",
    "\n",
    "    if model is None and (checkpoints_path is not None):\n",
    "        model = model_from_checkpoint_path(checkpoints_path)\n",
    "\n",
    "    assert (inp is not None)\n",
    "    assert ((type(inp) is np.ndarray) or isinstance(inp, six.string_types)),\\\n",
    "        \"Input should be the CV image or the input file name\"\n",
    "\n",
    "    if isinstance(inp, six.string_types):\n",
    "        inp = cv2.imread(inp, read_image_type)\n",
    "\n",
    "    #assert (len(inp.shape) == 3 or len(inp.shape) == 1 or len(inp.shape) == 4), \"Image should be h,w,3 \"\n",
    "\n",
    "    n_classes = 50\n",
    "    input_height = 320\n",
    "    input_width = 640\n",
    "    output_height = 160\n",
    "    output_width = 320\n",
    "\n",
    "    x = get_image_array(inp, input_width, input_height,\n",
    "                        ordering=IMAGE_ORDERING)\n",
    "    pr = model.predict(np.array([x]))[0]\n",
    "    pr = pr.reshape((output_height,  output_width, n_classes)).argmax(axis=2)\n",
    "\n",
    "    seg_img = visualize_segmentation(pr, inp, n_classes=n_classes,\n",
    "                                     colors=colors, overlay_img=overlay_img,\n",
    "                                     show_legends=show_legends,\n",
    "                                     class_names=class_names,\n",
    "                                     prediction_width=prediction_width,\n",
    "                                     prediction_height=prediction_height)\n",
    "\n",
    "    if out_fname is not None:\n",
    "        cv2.imwrite(out_fname, seg_img)\n",
    "\n",
    "    return pr\n",
    "\n",
    "class DataLoaderError(Exception):\n",
    "    pass"
   ]
  },
  {
   "cell_type": "code",
   "execution_count": 56,
   "id": "8fdf47ae",
   "metadata": {},
   "outputs": [
    {
     "ename": "AssertionError",
     "evalue": "",
     "output_type": "error",
     "traceback": [
      "\u001b[0;31m---------------------------------------------------------------------------\u001b[0m",
      "\u001b[0;31mAssertionError\u001b[0m                            Traceback (most recent call last)",
      "\u001b[0;32m<ipython-input-56-dd16e0a31af7>\u001b[0m in \u001b[0;36m<module>\u001b[0;34m\u001b[0m\n\u001b[0;32m----> 1\u001b[0;31m \u001b[0mprint\u001b[0m\u001b[0;34m(\u001b[0m\u001b[0mevaluate\u001b[0m\u001b[0;34m(\u001b[0m\u001b[0mmodel_p\u001b[0m\u001b[0;34m,\u001b[0m \u001b[0mtrain_images\u001b[0m\u001b[0;34m,\u001b[0m \u001b[0mtrain_annotations\u001b[0m\u001b[0;34m)\u001b[0m\u001b[0;34m)\u001b[0m\u001b[0;34m\u001b[0m\u001b[0;34m\u001b[0m\u001b[0m\n\u001b[0m",
      "\u001b[0;32m<ipython-input-55-7212c57ffcf8>\u001b[0m in \u001b[0;36mevaluate\u001b[0;34m(model, inp_images, annotations, inp_images_dir, annotations_dir, checkpoints_path, read_image_type)\u001b[0m\n\u001b[1;32m     24\u001b[0m         \u001b[0mannotations\u001b[0m \u001b[0;34m=\u001b[0m \u001b[0mlist\u001b[0m\u001b[0;34m(\u001b[0m\u001b[0mpaths\u001b[0m\u001b[0;34m[\u001b[0m\u001b[0;36m1\u001b[0m\u001b[0;34m]\u001b[0m\u001b[0;34m)\u001b[0m\u001b[0;34m\u001b[0m\u001b[0;34m\u001b[0m\u001b[0m\n\u001b[1;32m     25\u001b[0m \u001b[0;34m\u001b[0m\u001b[0m\n\u001b[0;32m---> 26\u001b[0;31m     \u001b[0;32massert\u001b[0m \u001b[0mtype\u001b[0m\u001b[0;34m(\u001b[0m\u001b[0minp_images\u001b[0m\u001b[0;34m)\u001b[0m \u001b[0;32mis\u001b[0m \u001b[0mlist\u001b[0m\u001b[0;34m\u001b[0m\u001b[0;34m\u001b[0m\u001b[0m\n\u001b[0m\u001b[1;32m     27\u001b[0m     \u001b[0;32massert\u001b[0m \u001b[0mtype\u001b[0m\u001b[0;34m(\u001b[0m\u001b[0mannotations\u001b[0m\u001b[0;34m)\u001b[0m \u001b[0;32mis\u001b[0m \u001b[0mlist\u001b[0m\u001b[0;34m\u001b[0m\u001b[0;34m\u001b[0m\u001b[0m\n\u001b[1;32m     28\u001b[0m \u001b[0;34m\u001b[0m\u001b[0m\n",
      "\u001b[0;31mAssertionError\u001b[0m: "
     ]
    }
   ],
   "source": [
    "print(evaluate(model_p, train_images, train_annotations))"
   ]
  }
 ],
 "metadata": {
  "kernelspec": {
   "display_name": "Python 3",
   "language": "python",
   "name": "python3"
  },
  "language_info": {
   "codemirror_mode": {
    "name": "ipython",
    "version": 3
   },
   "file_extension": ".py",
   "mimetype": "text/x-python",
   "name": "python",
   "nbconvert_exporter": "python",
   "pygments_lexer": "ipython3",
   "version": "3.6.9"
  }
 },
 "nbformat": 4,
 "nbformat_minor": 5
}
